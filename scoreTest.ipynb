{
 "cells": [
  {
   "cell_type": "code",
   "execution_count": 20,
   "metadata": {},
   "outputs": [],
   "source": [
    "import pandas as pd\n",
    "import numpy as nb\n",
    "import matplotlib.pyplot as plt\n",
    "import seaborn as sns\n",
    "import os\n",
    "import openai\n",
    "import nltk\n",
    "\n",
    "plt.style.use('ggplot')\n",
    "\n",
    "openai.api_key = os.getenv(\"OPENAI_API_KEY\")"
   ]
  },
  {
   "cell_type": "code",
   "execution_count": 12,
   "metadata": {},
   "outputs": [],
   "source": [
    "file_path = 'interactions_table_nov_jan.csv'\n",
    "df = pd.read_csv(file_path)"
   ]
  },
  {
   "cell_type": "code",
   "execution_count": 13,
   "metadata": {},
   "outputs": [],
   "source": [
    "#select 50 interactions where the user is different from \"NOC\", \"Chat GPT\" or \"Prompt\" and those that does not contains the workd \"teste\"\n",
    "df2 = df.loc[~df['user'].isin([\"NOC\", \"Chat GPT\", \"Prompt\", \"Felipe undefined\"]) \n",
    "                & ~df['user'].str.contains(\"teste\") \n",
    "                & ~df['message'].str.contains(\"Não entendi, escolha uma das opções\") \n",
    "                & ~df['message'].str.contains(\"Opção Inválida\") \n",
    "                & ~df['message'].str.contains(\"Escolha uma das seguintes opções\")\n",
    "                & ~df['message'].str.contains(\"não entendemos sua mensagem\")\n",
    "                & ~df['message'].str.contains(\"Departamento Fiscal/Contábil\")\n",
    "                & ~df['message'].str.contains(\"agradece seu contato\")\n",
    "                & ~df['message'].str.contains(\"agradece o seu contato\")\n",
    "                & ~df['message'].str.contains(\"agradece contato\")\n",
    "                & ~df['message'].str.contains(\"😃\")\n",
    "                & ~df['message'].str.contains(\"Seja bem-vindo\")]"
   ]
  },
  {
   "cell_type": "code",
   "execution_count": 14,
   "metadata": {},
   "outputs": [],
   "source": [
    "df3 = df2"
   ]
  },
  {
   "cell_type": "code",
   "execution_count": 15,
   "metadata": {},
   "outputs": [],
   "source": [
    "#select only the chat_id group that has more than 20 interactions\n",
    "df4 = df3.groupby('chat_id').filter(lambda x: len(x) > 10)"
   ]
  },
  {
   "cell_type": "code",
   "execution_count": 16,
   "metadata": {},
   "outputs": [],
   "source": [
    "#una todos os textos da coluna \"message\" pelo chat_id em uma única string, e crie uma nova df com essas strings, o chat_id, o user e a data (created_at) da última mensagem\n",
    "\n",
    "df5 = df4.groupby('chat_id').agg({'message': ' '.join, 'user': 'last', 'created_at': 'last'}).reset_index()"
   ]
  },
  {
   "cell_type": "code",
   "execution_count": 52,
   "metadata": {},
   "outputs": [],
   "source": [
    "def translate_message(text):\n",
    "    prompt = f\"\"\"Você é um tradutor que analisa mensagens e traduz do português para o inglês\n",
    "     Se não tiver certeza de uma tradução, você pode dizer \"Não tenho certeza\" e recomendar a revisão do usuário manualmente.\n",
    "\n",
    "     Analise o texto a seguir e faça a tradução do português para o inglês.\n",
    "    {text}\"\"\"\n",
    "\n",
    "    try:\n",
    "        response = openai.ChatCompletion.create(\n",
    "            model=\"gpt-4\",\n",
    "            messages=[\n",
    "                {\"role\": \"system\", \"content\": \"Você é um tradutor prestativo.\"},\n",
    "                {\"role\": \"user\", \"content\": prompt}\n",
    "            ],\n",
    "            max_tokens=60,\n",
    "            temperature=0\n",
    "        )\n",
    "\n",
    "        translation = response.choices[0].message['content'].strip().lower()\n",
    "        return translation\n",
    "    except Exception as e:\n",
    "        print(\"Ocorreu um erro:\", e)\n",
    "        return \"Erro\""
   ]
  },
  {
   "cell_type": "code",
   "execution_count": 18,
   "metadata": {},
   "outputs": [
    {
     "name": "stdout",
     "output_type": "stream",
     "text": [
      "A minha estar cobrando Taxa de aluguel da maquina E no cnpj Queria que me enviasse a máquina E queria a máquina de cartai Então já tenho a conta blu Mais uso o aplicativo da blu E ela foi coletada Eu usava a da getnet Queria que me enviasse uma máquina blu Olá, quero falar com o suporte da Blu E queria fazer o pedido Mais não tenho a máquina Já uso o portal Qual o site de fazer o pedido da máquina Queria fazer o pedido de uma máquina de cartão Eunice\n"
     ]
    }
   ],
   "source": [
    "example = df5['message'][10]\n",
    "print(example)"
   ]
  },
  {
   "cell_type": "code",
   "execution_count": 30,
   "metadata": {},
   "outputs": [],
   "source": [
    "from transformers import AutoTokenizer, AutoModelForSequenceClassification\n",
    "from scipy.special import softmax  "
   ]
  },
  {
   "cell_type": "code",
   "execution_count": 31,
   "metadata": {},
   "outputs": [
    {
     "data": {
      "application/vnd.jupyter.widget-view+json": {
       "model_id": "561d31dcc70b46aea4ed597a3a21aba6",
       "version_major": 2,
       "version_minor": 0
      },
      "text/plain": [
       "Downloading config.json:   0%|          | 0.00/747 [00:00<?, ?B/s]"
      ]
     },
     "metadata": {},
     "output_type": "display_data"
    },
    {
     "name": "stderr",
     "output_type": "stream",
     "text": [
      "c:\\Users\\Larissa Lorenzi\\AppData\\Local\\Programs\\Python\\Python311\\Lib\\site-packages\\huggingface_hub\\file_download.py:133: UserWarning: `huggingface_hub` cache-system uses symlinks by default to efficiently store duplicated files but your machine does not support them in C:\\Users\\Larissa Lorenzi\\.cache\\huggingface\\hub. Caching files will still work but in a degraded version that might require more space on your disk. This warning can be disabled by setting the `HF_HUB_DISABLE_SYMLINKS_WARNING` environment variable. For more details, see https://huggingface.co/docs/huggingface_hub/how-to-cache#limitations.\n",
      "To support symlinks on Windows, you either need to activate Developer Mode or to run Python as an administrator. In order to see activate developer mode, see this article: https://docs.microsoft.com/en-us/windows/apps/get-started/enable-your-device-for-development\n",
      "  warnings.warn(message)\n"
     ]
    },
    {
     "data": {
      "application/vnd.jupyter.widget-view+json": {
       "model_id": "aed3ff6e8ee542969db1949907f0ed3d",
       "version_major": 2,
       "version_minor": 0
      },
      "text/plain": [
       "Downloading vocab.json:   0%|          | 0.00/899k [00:00<?, ?B/s]"
      ]
     },
     "metadata": {},
     "output_type": "display_data"
    },
    {
     "data": {
      "application/vnd.jupyter.widget-view+json": {
       "model_id": "8621dc633edc4850a5a735a3381a3e6d",
       "version_major": 2,
       "version_minor": 0
      },
      "text/plain": [
       "Downloading merges.txt:   0%|          | 0.00/456k [00:00<?, ?B/s]"
      ]
     },
     "metadata": {},
     "output_type": "display_data"
    },
    {
     "data": {
      "application/vnd.jupyter.widget-view+json": {
       "model_id": "d0cc2e2524ea4df4beb7e0e71d9d4c9b",
       "version_major": 2,
       "version_minor": 0
      },
      "text/plain": [
       "Downloading (…)cial_tokens_map.json:   0%|          | 0.00/150 [00:00<?, ?B/s]"
      ]
     },
     "metadata": {},
     "output_type": "display_data"
    },
    {
     "name": "stderr",
     "output_type": "stream",
     "text": [
      "c:\\Users\\Larissa Lorenzi\\AppData\\Local\\Programs\\Python\\Python311\\Lib\\site-packages\\bitsandbytes\\cextension.py:34: UserWarning: The installed version of bitsandbytes was compiled without GPU support. 8-bit optimizers, 8-bit multiplication, and GPU quantization are unavailable.\n",
      "  warn(\"The installed version of bitsandbytes was compiled without GPU support. \"\n"
     ]
    },
    {
     "name": "stdout",
     "output_type": "stream",
     "text": [
      "'NoneType' object has no attribute 'cadam32bit_grad_fp32'\n"
     ]
    },
    {
     "data": {
      "application/vnd.jupyter.widget-view+json": {
       "model_id": "ab29139857a0483bb405ad33443d36c4",
       "version_major": 2,
       "version_minor": 0
      },
      "text/plain": [
       "Downloading pytorch_model.bin:   0%|          | 0.00/499M [00:00<?, ?B/s]"
      ]
     },
     "metadata": {},
     "output_type": "display_data"
    }
   ],
   "source": [
    "MODEL = f\"cardiffnlp/twitter-roberta-base-sentiment\"\n",
    "tokenizer = AutoTokenizer.from_pretrained(MODEL)\n",
    "model = AutoModelForSequenceClassification.from_pretrained(MODEL)"
   ]
  },
  {
   "cell_type": "code",
   "execution_count": 32,
   "metadata": {},
   "outputs": [
    {
     "name": "stdout",
     "output_type": "stream",
     "text": [
      "O produto não é bom, não gostei, cheio de defeitos\n"
     ]
    }
   ],
   "source": [
    "example2 = 'O produto não é bom, não gostei, cheio de defeitos'\n",
    "print(example2)"
   ]
  },
  {
   "cell_type": "code",
   "execution_count": 36,
   "metadata": {},
   "outputs": [
    {
     "name": "stdout",
     "output_type": "stream",
     "text": [
      "{'roberta_neg': 0.20471664, 'roberta_neu': 0.7116031, 'roberta_pos': 0.08368025}\n"
     ]
    }
   ],
   "source": [
    "encoded_text = tokenizer(example2, return_tensors=\"pt\")\n",
    "output = model(**encoded_text)\n",
    "scores = output[0][0].detach().numpy()\n",
    "scores = softmax(scores)\n",
    "scores_dict = {\n",
    "    'roberta_neg': scores[0],\n",
    "    'roberta_neu': scores[1],\n",
    "    'roberta_pos': scores[2]\n",
    "}\n",
    "\n",
    "print(scores_dict)"
   ]
  },
  {
   "cell_type": "code",
   "execution_count": 38,
   "metadata": {},
   "outputs": [],
   "source": [
    "def polarity_scores_roberta(example):\n",
    "    encoded_text = tokenizer(example, return_tensors=\"pt\")\n",
    "    output = model(**encoded_text)\n",
    "    scores = output[0][0].detach().numpy()\n",
    "    scores = softmax(scores)\n",
    "    scores_dict = {\n",
    "        'roberta_neg': scores[0],\n",
    "        'roberta_neu': scores[1],\n",
    "        'roberta_pos': scores[2]\n",
    "    }\n",
    "    return scores_dict"
   ]
  },
  {
   "cell_type": "code",
   "execution_count": 55,
   "metadata": {},
   "outputs": [
    {
     "data": {
      "application/vnd.jupyter.widget-view+json": {
       "model_id": "0a18d0e4300742859d8237f324a8412a",
       "version_major": 2,
       "version_minor": 0
      },
      "text/plain": [
       "  0%|          | 0/30 [00:00<?, ?it/s]"
      ]
     },
     "metadata": {},
     "output_type": "display_data"
    }
   ],
   "source": [
    "res = {}\n",
    "for i, row in tqdm(df5.iterrows(), total=len(df5)):\n",
    "    try:    \n",
    "        text = row['message_trans']\n",
    "        myid = row['chat_id']\n",
    "        roberta_results = polarity_scores_roberta(text)\n",
    "        res[myid] = roberta_results\n",
    "    except RuntimeError:\n",
    "        print(f'Broke for chat_id {chat_id}')"
   ]
  },
  {
   "cell_type": "code",
   "execution_count": 56,
   "metadata": {},
   "outputs": [],
   "source": [
    "results_df = pd.DataFrame(res).T\n",
    "results_df = results_df.reset_index().rename(columns={'index': 'chat_id'})\n",
    "results_df = results_df.merge(df5, how='left')"
   ]
  },
  {
   "cell_type": "code",
   "execution_count": 57,
   "metadata": {},
   "outputs": [
    {
     "data": {
      "text/html": [
       "<div>\n",
       "<style scoped>\n",
       "    .dataframe tbody tr th:only-of-type {\n",
       "        vertical-align: middle;\n",
       "    }\n",
       "\n",
       "    .dataframe tbody tr th {\n",
       "        vertical-align: top;\n",
       "    }\n",
       "\n",
       "    .dataframe thead th {\n",
       "        text-align: right;\n",
       "    }\n",
       "</style>\n",
       "<table border=\"1\" class=\"dataframe\">\n",
       "  <thead>\n",
       "    <tr style=\"text-align: right;\">\n",
       "      <th></th>\n",
       "      <th>chat_id</th>\n",
       "      <th>roberta_neg</th>\n",
       "      <th>roberta_neu</th>\n",
       "      <th>roberta_pos</th>\n",
       "      <th>message</th>\n",
       "      <th>user</th>\n",
       "      <th>created_at</th>\n",
       "      <th>message_trans</th>\n",
       "    </tr>\n",
       "  </thead>\n",
       "  <tbody>\n",
       "    <tr>\n",
       "      <th>0</th>\n",
       "      <td>14VVFZN7R80UNPVA8Q04</td>\n",
       "      <td>0.129920</td>\n",
       "      <td>0.732714</td>\n",
       "      <td>0.137366</td>\n",
       "      <td>Empresa Preciso cadastrsr outra empresan __aud...</td>\n",
       "      <td>Seoneco 🐸</td>\n",
       "      <td>2023-11-27T13:20:31.515216-03:00</td>\n",
       "      <td>company i need to register another company __a...</td>\n",
       "    </tr>\n",
       "    <tr>\n",
       "      <th>1</th>\n",
       "      <td>1DP3MDANB0OGQKASW1OM</td>\n",
       "      <td>0.119383</td>\n",
       "      <td>0.481679</td>\n",
       "      <td>0.398939</td>\n",
       "      <td>O cadastro já deu certo agora só falta pedir a...</td>\n",
       "      <td>Welder Vendedor</td>\n",
       "      <td>2024-01-02T12:35:00.727364-03:00</td>\n",
       "      <td>the registration has already been successful, ...</td>\n",
       "    </tr>\n",
       "    <tr>\n",
       "      <th>2</th>\n",
       "      <td>1OHYT505S3V28ELHD28U</td>\n",
       "      <td>0.080613</td>\n",
       "      <td>0.812238</td>\n",
       "      <td>0.107149</td>\n",
       "      <td>Mais eu sou uma criança Como faço Eu sou uma c...</td>\n",
       "      <td>Tulio undefined</td>\n",
       "      <td>2023-11-30T11:02:34.54443-03:00</td>\n",
       "      <td>desculpe, mas o texto fornecido é muito confus...</td>\n",
       "    </tr>\n",
       "    <tr>\n",
       "      <th>3</th>\n",
       "      <td>25472dae-41be-4db5-b465-92b3ee0f285d</td>\n",
       "      <td>0.124147</td>\n",
       "      <td>0.808101</td>\n",
       "      <td>0.067752</td>\n",
       "      <td>Meu salário é 2000,00 e vou tirar 10 dias de f...</td>\n",
       "      <td>Thaissa Delgado</td>\n",
       "      <td>2023-12-04T19:42:38.730139-03:00</td>\n",
       "      <td>my salary is $2000.00 and i'm going to take 10...</td>\n",
       "    </tr>\n",
       "    <tr>\n",
       "      <th>4</th>\n",
       "      <td>2S8DYFBPKE8253H7EFPH</td>\n",
       "      <td>0.007801</td>\n",
       "      <td>0.143044</td>\n",
       "      <td>0.849155</td>\n",
       "      <td>O pagamento em 12x para o cliente tem juros? E...</td>\n",
       "      <td>Cidadedossonhosmoveis undefined</td>\n",
       "      <td>2023-12-07T14:08:58.011084-03:00</td>\n",
       "      <td>does the 12x payment for the customer have int...</td>\n",
       "    </tr>\n",
       "  </tbody>\n",
       "</table>\n",
       "</div>"
      ],
      "text/plain": [
       "                                chat_id  roberta_neg  roberta_neu  \\\n",
       "0                  14VVFZN7R80UNPVA8Q04     0.129920     0.732714   \n",
       "1                  1DP3MDANB0OGQKASW1OM     0.119383     0.481679   \n",
       "2                  1OHYT505S3V28ELHD28U     0.080613     0.812238   \n",
       "3  25472dae-41be-4db5-b465-92b3ee0f285d     0.124147     0.808101   \n",
       "4                  2S8DYFBPKE8253H7EFPH     0.007801     0.143044   \n",
       "\n",
       "   roberta_pos                                            message  \\\n",
       "0     0.137366  Empresa Preciso cadastrsr outra empresan __aud...   \n",
       "1     0.398939  O cadastro já deu certo agora só falta pedir a...   \n",
       "2     0.107149  Mais eu sou uma criança Como faço Eu sou uma c...   \n",
       "3     0.067752  Meu salário é 2000,00 e vou tirar 10 dias de f...   \n",
       "4     0.849155  O pagamento em 12x para o cliente tem juros? E...   \n",
       "\n",
       "                              user                        created_at  \\\n",
       "0                        Seoneco 🐸  2023-11-27T13:20:31.515216-03:00   \n",
       "1                  Welder Vendedor  2024-01-02T12:35:00.727364-03:00   \n",
       "2                  Tulio undefined   2023-11-30T11:02:34.54443-03:00   \n",
       "3                  Thaissa Delgado  2023-12-04T19:42:38.730139-03:00   \n",
       "4  Cidadedossonhosmoveis undefined  2023-12-07T14:08:58.011084-03:00   \n",
       "\n",
       "                                       message_trans  \n",
       "0  company i need to register another company __a...  \n",
       "1  the registration has already been successful, ...  \n",
       "2  desculpe, mas o texto fornecido é muito confus...  \n",
       "3  my salary is $2000.00 and i'm going to take 10...  \n",
       "4  does the 12x payment for the customer have int...  "
      ]
     },
     "execution_count": 57,
     "metadata": {},
     "output_type": "execute_result"
    }
   ],
   "source": [
    "results_df.head()"
   ]
  },
  {
   "cell_type": "code",
   "execution_count": 53,
   "metadata": {},
   "outputs": [],
   "source": [
    "df5['message_trans'] = df5['message'].apply(translate_message)"
   ]
  },
  {
   "cell_type": "code",
   "execution_count": 58,
   "metadata": {},
   "outputs": [
    {
     "data": {
      "text/html": [
       "<div>\n",
       "<style scoped>\n",
       "    .dataframe tbody tr th:only-of-type {\n",
       "        vertical-align: middle;\n",
       "    }\n",
       "\n",
       "    .dataframe tbody tr th {\n",
       "        vertical-align: top;\n",
       "    }\n",
       "\n",
       "    .dataframe thead th {\n",
       "        text-align: right;\n",
       "    }\n",
       "</style>\n",
       "<table border=\"1\" class=\"dataframe\">\n",
       "  <thead>\n",
       "    <tr style=\"text-align: right;\">\n",
       "      <th></th>\n",
       "      <th>chat_id</th>\n",
       "      <th>roberta_neg</th>\n",
       "      <th>roberta_neu</th>\n",
       "      <th>roberta_pos</th>\n",
       "      <th>message</th>\n",
       "      <th>user</th>\n",
       "      <th>created_at</th>\n",
       "      <th>message_trans</th>\n",
       "    </tr>\n",
       "  </thead>\n",
       "  <tbody>\n",
       "    <tr>\n",
       "      <th>5</th>\n",
       "      <td>3HX5TD1K48QBH4IDESXZ</td>\n",
       "      <td>0.869413</td>\n",
       "      <td>0.116679</td>\n",
       "      <td>0.013909</td>\n",
       "      <td>pode deixar, sua ajuda muito é de pouca avalia...</td>\n",
       "      <td>Fernando Bronté</td>\n",
       "      <td>2023-12-13T11:02:26.117422-03:00</td>\n",
       "      <td>you can leave it, your help is of little value...</td>\n",
       "    </tr>\n",
       "  </tbody>\n",
       "</table>\n",
       "</div>"
      ],
      "text/plain": [
       "                chat_id  roberta_neg  roberta_neu  roberta_pos  \\\n",
       "5  3HX5TD1K48QBH4IDESXZ     0.869413     0.116679     0.013909   \n",
       "\n",
       "                                             message             user  \\\n",
       "5  pode deixar, sua ajuda muito é de pouca avalia...  Fernando Bronté   \n",
       "\n",
       "                         created_at  \\\n",
       "5  2023-12-13T11:02:26.117422-03:00   \n",
       "\n",
       "                                       message_trans  \n",
       "5  you can leave it, your help is of little value...  "
      ]
     },
     "execution_count": 58,
     "metadata": {},
     "output_type": "execute_result"
    }
   ],
   "source": [
    "#mostre tudo sobre o chat_id 3HX5TD1K48QBH4IDESXZ\n",
    "\n",
    "results_df[results_df['chat_id'] == '3HX5TD1K48QBH4IDESXZ']"
   ]
  },
  {
   "cell_type": "code",
   "execution_count": 50,
   "metadata": {},
   "outputs": [
    {
     "data": {
      "text/plain": [
       "'pode deixar, sua ajuda muito é de pouca avalia pode deixar, sua ajuda muito é de pouca avalia Sistema para da a informação que já existe um usuario com um dos dados informados já informei várias vezes o que esta acontecendo mas nao ´parece Péssimo serviço Repete sempre a mesma coisa Então ajuda da a informação que já existe um usuario com um dos dados informados da a informação que já existe um usuario com um dos dados informados já tentei mas não avança preciso cadastrar outro email e usuario da conta blu'"
      ]
     },
     "execution_count": 50,
     "metadata": {},
     "output_type": "execute_result"
    }
   ],
   "source": [
    "df5.loc[df5['chat_id'] == '3HX5TD1K48QBH4IDESXZ', 'message'].iloc[0]"
   ]
  },
  {
   "cell_type": "code",
   "execution_count": 51,
   "metadata": {},
   "outputs": [
    {
     "data": {
      "text/plain": [
       "Index(['chat_id', 'roberta_neg', 'roberta_neu', 'roberta_pos', 'message',\n",
       "       'user', 'created_at'],\n",
       "      dtype='object')"
      ]
     },
     "execution_count": 51,
     "metadata": {},
     "output_type": "execute_result"
    }
   ],
   "source": [
    "results_df.columns"
   ]
  },
  {
   "cell_type": "code",
   "execution_count": null,
   "metadata": {},
   "outputs": [],
   "source": [
    "sns.scatterplot(data=results_df, x='roberta_neg', y='roberta_pos', z='roberta_neu', hue='user')"
   ]
  },
  {
   "cell_type": "code",
   "execution_count": null,
   "metadata": {},
   "outputs": [],
   "source": []
  }
 ],
 "metadata": {
  "kernelspec": {
   "display_name": "Python 3",
   "language": "python",
   "name": "python3"
  },
  "language_info": {
   "codemirror_mode": {
    "name": "ipython",
    "version": 3
   },
   "file_extension": ".py",
   "mimetype": "text/x-python",
   "name": "python",
   "nbconvert_exporter": "python",
   "pygments_lexer": "ipython3",
   "version": "3.11.3"
  }
 },
 "nbformat": 4,
 "nbformat_minor": 2
}

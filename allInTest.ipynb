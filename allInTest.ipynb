{
 "cells": [
  {
   "cell_type": "markdown",
   "metadata": {},
   "source": [
    "NTKL TEST"
   ]
  },
  {
   "cell_type": "code",
   "execution_count": 59,
   "metadata": {},
   "outputs": [
    {
     "name": "stderr",
     "output_type": "stream",
     "text": [
      "[nltk_data] Downloading package vader_lexicon to C:\\Users\\Larissa\n",
      "[nltk_data]     Lorenzi\\AppData\\Roaming\\nltk_data...\n",
      "[nltk_data]   Package vader_lexicon is already up-to-date!\n"
     ]
    },
    {
     "data": {
      "text/plain": [
       "True"
      ]
     },
     "execution_count": 59,
     "metadata": {},
     "output_type": "execute_result"
    }
   ],
   "source": [
    "import pandas as pd\n",
    "import nltk\n",
    "from nltk.sentiment import SentimentIntensityAnalyzer\n",
    "from tqdm.notebook import tqdm\n",
    "\n",
    "nltk.download('vader_lexicon')"
   ]
  },
  {
   "cell_type": "code",
   "execution_count": 60,
   "metadata": {},
   "outputs": [],
   "source": [
    "file_path = 'df5.csv'\n",
    "df = pd.read_csv(file_path)\n",
    "\n",
    "sia = SentimentIntensityAnalyzer()\n"
   ]
  },
  {
   "cell_type": "code",
   "execution_count": 61,
   "metadata": {},
   "outputs": [
    {
     "data": {
      "text/plain": [
       "{'neg': 0.0, 'neu': 0.318, 'pos': 0.682, 'compound': 0.6468}"
      ]
     },
     "execution_count": 61,
     "metadata": {},
     "output_type": "execute_result"
    }
   ],
   "source": [
    "sia.polarity_scores('I am so happy!')"
   ]
  },
  {
   "cell_type": "code",
   "execution_count": 62,
   "metadata": {},
   "outputs": [
    {
     "data": {
      "text/plain": [
       "{'neg': 0.787, 'neu': 0.213, 'pos': 0.0, 'compound': -0.5719}"
      ]
     },
     "execution_count": 62,
     "metadata": {},
     "output_type": "execute_result"
    }
   ],
   "source": [
    "sia.polarity_scores('I hate it.')"
   ]
  },
  {
   "cell_type": "code",
   "execution_count": 63,
   "metadata": {},
   "outputs": [
    {
     "name": "stdout",
     "output_type": "stream",
     "text": [
      "you can leave it, your help is of little value. system to give the information that there is already a user with one of the informed data. i have already informed several times what is happening but it doesn't seem to be. terrible service. it always repeats the same thing. so,\n"
     ]
    }
   ],
   "source": [
    "example = df['message_trans'][5]\n",
    "print(example)"
   ]
  },
  {
   "cell_type": "code",
   "execution_count": 64,
   "metadata": {},
   "outputs": [
    {
     "data": {
      "text/plain": [
       "{'neg': 0.098, 'neu': 0.839, 'pos': 0.063, 'compound': -0.4304}"
      ]
     },
     "execution_count": 64,
     "metadata": {},
     "output_type": "execute_result"
    }
   ],
   "source": [
    "sia.polarity_scores(example)"
   ]
  },
  {
   "cell_type": "code",
   "execution_count": 65,
   "metadata": {},
   "outputs": [
    {
     "data": {
      "application/vnd.jupyter.widget-view+json": {
       "model_id": "ff3557259b424334b310e223d2c709ff",
       "version_major": 2,
       "version_minor": 0
      },
      "text/plain": [
       "  0%|          | 0/30 [00:00<?, ?it/s]"
      ]
     },
     "metadata": {},
     "output_type": "display_data"
    }
   ],
   "source": [
    "res = {}\n",
    "for i, row in tqdm(df.iterrows(), total=len(df)):\n",
    "    text = row['message_trans']\n",
    "    myid = row['chat_id']\n",
    "    res[myid] = sia.polarity_scores(text)"
   ]
  },
  {
   "cell_type": "code",
   "execution_count": 66,
   "metadata": {},
   "outputs": [],
   "source": [
    "vaders = pd.DataFrame(res).T\n",
    "vaders = vaders.reset_index().rename(columns={'index': 'chat_id'})\n",
    "vaders = vaders.merge(df, how='left')"
   ]
  },
  {
   "cell_type": "code",
   "execution_count": 67,
   "metadata": {},
   "outputs": [
    {
     "data": {
      "text/html": [
       "<div>\n",
       "<style scoped>\n",
       "    .dataframe tbody tr th:only-of-type {\n",
       "        vertical-align: middle;\n",
       "    }\n",
       "\n",
       "    .dataframe tbody tr th {\n",
       "        vertical-align: top;\n",
       "    }\n",
       "\n",
       "    .dataframe thead th {\n",
       "        text-align: right;\n",
       "    }\n",
       "</style>\n",
       "<table border=\"1\" class=\"dataframe\">\n",
       "  <thead>\n",
       "    <tr style=\"text-align: right;\">\n",
       "      <th></th>\n",
       "      <th>chat_id</th>\n",
       "      <th>neg</th>\n",
       "      <th>neu</th>\n",
       "      <th>pos</th>\n",
       "      <th>compound</th>\n",
       "      <th>message</th>\n",
       "      <th>user</th>\n",
       "      <th>created_at</th>\n",
       "      <th>message_trans</th>\n",
       "    </tr>\n",
       "  </thead>\n",
       "  <tbody>\n",
       "    <tr>\n",
       "      <th>0</th>\n",
       "      <td>14VVFZN7R80UNPVA8Q04</td>\n",
       "      <td>0.0</td>\n",
       "      <td>0.774</td>\n",
       "      <td>0.226</td>\n",
       "      <td>0.8860</td>\n",
       "      <td>Empresa Preciso cadastrsr outra empresan __aud...</td>\n",
       "      <td>Seoneco 🐸</td>\n",
       "      <td>2023-11-27T13:20:31.515216-03:00</td>\n",
       "      <td>company i need to register another company __a...</td>\n",
       "    </tr>\n",
       "    <tr>\n",
       "      <th>1</th>\n",
       "      <td>1DP3MDANB0OGQKASW1OM</td>\n",
       "      <td>0.0</td>\n",
       "      <td>0.919</td>\n",
       "      <td>0.081</td>\n",
       "      <td>0.5859</td>\n",
       "      <td>O cadastro já deu certo agora só falta pedir a...</td>\n",
       "      <td>Welder Vendedor</td>\n",
       "      <td>2024-01-02T12:35:00.727364-03:00</td>\n",
       "      <td>the registration has already been successful, ...</td>\n",
       "    </tr>\n",
       "  </tbody>\n",
       "</table>\n",
       "</div>"
      ],
      "text/plain": [
       "                chat_id  neg    neu    pos  compound  \\\n",
       "0  14VVFZN7R80UNPVA8Q04  0.0  0.774  0.226    0.8860   \n",
       "1  1DP3MDANB0OGQKASW1OM  0.0  0.919  0.081    0.5859   \n",
       "\n",
       "                                             message             user  \\\n",
       "0  Empresa Preciso cadastrsr outra empresan __aud...        Seoneco 🐸   \n",
       "1  O cadastro já deu certo agora só falta pedir a...  Welder Vendedor   \n",
       "\n",
       "                         created_at  \\\n",
       "0  2023-11-27T13:20:31.515216-03:00   \n",
       "1  2024-01-02T12:35:00.727364-03:00   \n",
       "\n",
       "                                       message_trans  \n",
       "0  company i need to register another company __a...  \n",
       "1  the registration has already been successful, ...  "
      ]
     },
     "execution_count": 67,
     "metadata": {},
     "output_type": "execute_result"
    }
   ],
   "source": [
    "vaders.head(2)"
   ]
  },
  {
   "cell_type": "code",
   "execution_count": 68,
   "metadata": {},
   "outputs": [
    {
     "data": {
      "text/html": [
       "<div>\n",
       "<style scoped>\n",
       "    .dataframe tbody tr th:only-of-type {\n",
       "        vertical-align: middle;\n",
       "    }\n",
       "\n",
       "    .dataframe tbody tr th {\n",
       "        vertical-align: top;\n",
       "    }\n",
       "\n",
       "    .dataframe thead th {\n",
       "        text-align: right;\n",
       "    }\n",
       "</style>\n",
       "<table border=\"1\" class=\"dataframe\">\n",
       "  <thead>\n",
       "    <tr style=\"text-align: right;\">\n",
       "      <th></th>\n",
       "      <th>chat_id</th>\n",
       "      <th>neg</th>\n",
       "      <th>neu</th>\n",
       "      <th>pos</th>\n",
       "      <th>compound</th>\n",
       "      <th>message</th>\n",
       "      <th>user</th>\n",
       "      <th>created_at</th>\n",
       "      <th>message_trans</th>\n",
       "      <th>vaders_sentiment</th>\n",
       "    </tr>\n",
       "  </thead>\n",
       "  <tbody>\n",
       "    <tr>\n",
       "      <th>0</th>\n",
       "      <td>14VVFZN7R80UNPVA8Q04</td>\n",
       "      <td>0.0</td>\n",
       "      <td>0.774</td>\n",
       "      <td>0.226</td>\n",
       "      <td>0.8860</td>\n",
       "      <td>Empresa Preciso cadastrsr outra empresan __aud...</td>\n",
       "      <td>Seoneco 🐸</td>\n",
       "      <td>2023-11-27T13:20:31.515216-03:00</td>\n",
       "      <td>company i need to register another company __a...</td>\n",
       "      <td>positive</td>\n",
       "    </tr>\n",
       "    <tr>\n",
       "      <th>1</th>\n",
       "      <td>1DP3MDANB0OGQKASW1OM</td>\n",
       "      <td>0.0</td>\n",
       "      <td>0.919</td>\n",
       "      <td>0.081</td>\n",
       "      <td>0.5859</td>\n",
       "      <td>O cadastro já deu certo agora só falta pedir a...</td>\n",
       "      <td>Welder Vendedor</td>\n",
       "      <td>2024-01-02T12:35:00.727364-03:00</td>\n",
       "      <td>the registration has already been successful, ...</td>\n",
       "      <td>positive</td>\n",
       "    </tr>\n",
       "    <tr>\n",
       "      <th>2</th>\n",
       "      <td>1OHYT505S3V28ELHD28U</td>\n",
       "      <td>0.0</td>\n",
       "      <td>1.000</td>\n",
       "      <td>0.000</td>\n",
       "      <td>0.0000</td>\n",
       "      <td>Mais eu sou uma criança Como faço Eu sou uma c...</td>\n",
       "      <td>Tulio undefined</td>\n",
       "      <td>2023-11-30T11:02:34.54443-03:00</td>\n",
       "      <td>desculpe, mas o texto fornecido é muito confus...</td>\n",
       "      <td>neutral</td>\n",
       "    </tr>\n",
       "    <tr>\n",
       "      <th>3</th>\n",
       "      <td>25472dae-41be-4db5-b465-92b3ee0f285d</td>\n",
       "      <td>0.0</td>\n",
       "      <td>0.780</td>\n",
       "      <td>0.220</td>\n",
       "      <td>0.8670</td>\n",
       "      <td>Meu salário é 2000,00 e vou tirar 10 dias de f...</td>\n",
       "      <td>Thaissa Delgado</td>\n",
       "      <td>2023-12-04T19:42:38.730139-03:00</td>\n",
       "      <td>my salary is 2000.00 and i'm going to take 10 ...</td>\n",
       "      <td>positive</td>\n",
       "    </tr>\n",
       "    <tr>\n",
       "      <th>4</th>\n",
       "      <td>2S8DYFBPKE8253H7EFPH</td>\n",
       "      <td>0.0</td>\n",
       "      <td>0.774</td>\n",
       "      <td>0.226</td>\n",
       "      <td>0.8738</td>\n",
       "      <td>O pagamento em 12x para o cliente tem juros? E...</td>\n",
       "      <td>Cidadedossonhosmoveis undefined</td>\n",
       "      <td>2023-12-07T14:08:58.011084-03:00</td>\n",
       "      <td>does the 12x payment for the customer have int...</td>\n",
       "      <td>positive</td>\n",
       "    </tr>\n",
       "  </tbody>\n",
       "</table>\n",
       "</div>"
      ],
      "text/plain": [
       "                                chat_id  neg    neu    pos  compound  \\\n",
       "0                  14VVFZN7R80UNPVA8Q04  0.0  0.774  0.226    0.8860   \n",
       "1                  1DP3MDANB0OGQKASW1OM  0.0  0.919  0.081    0.5859   \n",
       "2                  1OHYT505S3V28ELHD28U  0.0  1.000  0.000    0.0000   \n",
       "3  25472dae-41be-4db5-b465-92b3ee0f285d  0.0  0.780  0.220    0.8670   \n",
       "4                  2S8DYFBPKE8253H7EFPH  0.0  0.774  0.226    0.8738   \n",
       "\n",
       "                                             message  \\\n",
       "0  Empresa Preciso cadastrsr outra empresan __aud...   \n",
       "1  O cadastro já deu certo agora só falta pedir a...   \n",
       "2  Mais eu sou uma criança Como faço Eu sou uma c...   \n",
       "3  Meu salário é 2000,00 e vou tirar 10 dias de f...   \n",
       "4  O pagamento em 12x para o cliente tem juros? E...   \n",
       "\n",
       "                              user                        created_at  \\\n",
       "0                        Seoneco 🐸  2023-11-27T13:20:31.515216-03:00   \n",
       "1                  Welder Vendedor  2024-01-02T12:35:00.727364-03:00   \n",
       "2                  Tulio undefined   2023-11-30T11:02:34.54443-03:00   \n",
       "3                  Thaissa Delgado  2023-12-04T19:42:38.730139-03:00   \n",
       "4  Cidadedossonhosmoveis undefined  2023-12-07T14:08:58.011084-03:00   \n",
       "\n",
       "                                       message_trans vaders_sentiment  \n",
       "0  company i need to register another company __a...         positive  \n",
       "1  the registration has already been successful, ...         positive  \n",
       "2  desculpe, mas o texto fornecido é muito confus...          neutral  \n",
       "3  my salary is 2000.00 and i'm going to take 10 ...         positive  \n",
       "4  does the 12x payment for the customer have int...         positive  "
      ]
     },
     "execution_count": 68,
     "metadata": {},
     "output_type": "execute_result"
    }
   ],
   "source": [
    "# analyse compound column value and create a new column with the result considering that if the value is > 0.05 the message is positive, if it is < -0.05 the message is negative and if it is between -0.05 and 0.05 the message is neutral\n",
    "\n",
    "vaders.loc[vaders['compound'] >= -0.05, 'vaders_sentiment'] = 'positive'\n",
    "vaders.loc[vaders['compound'] <= -0.05, 'vaders_sentiment'] = 'negative'\n",
    "vaders.loc[(vaders['compound'] >= -0.05) & (vaders['compound'] <= 0.05), 'vaders_sentiment'] = 'neutral'\n",
    "\n",
    "vaders.head()"
   ]
  },
  {
   "cell_type": "code",
   "execution_count": 69,
   "metadata": {},
   "outputs": [
    {
     "data": {
      "text/html": [
       "<div>\n",
       "<style scoped>\n",
       "    .dataframe tbody tr th:only-of-type {\n",
       "        vertical-align: middle;\n",
       "    }\n",
       "\n",
       "    .dataframe tbody tr th {\n",
       "        vertical-align: top;\n",
       "    }\n",
       "\n",
       "    .dataframe thead th {\n",
       "        text-align: right;\n",
       "    }\n",
       "</style>\n",
       "<table border=\"1\" class=\"dataframe\">\n",
       "  <thead>\n",
       "    <tr style=\"text-align: right;\">\n",
       "      <th></th>\n",
       "      <th>chat_id</th>\n",
       "      <th>neg</th>\n",
       "      <th>neu</th>\n",
       "      <th>pos</th>\n",
       "      <th>compound</th>\n",
       "      <th>message</th>\n",
       "      <th>user</th>\n",
       "      <th>created_at</th>\n",
       "      <th>message_trans</th>\n",
       "      <th>vaders_sentiment</th>\n",
       "    </tr>\n",
       "  </thead>\n",
       "  <tbody>\n",
       "    <tr>\n",
       "      <th>5</th>\n",
       "      <td>3HX5TD1K48QBH4IDESXZ</td>\n",
       "      <td>0.098</td>\n",
       "      <td>0.839</td>\n",
       "      <td>0.063</td>\n",
       "      <td>-0.4304</td>\n",
       "      <td>pode deixar, sua ajuda muito é de pouca avalia...</td>\n",
       "      <td>Fernando Bronté</td>\n",
       "      <td>2023-12-13T11:02:26.117422-03:00</td>\n",
       "      <td>you can leave it, your help is of little value...</td>\n",
       "      <td>negative</td>\n",
       "    </tr>\n",
       "    <tr>\n",
       "      <th>25</th>\n",
       "      <td>UL8J37JJ1MCYVJZOOBXJ</td>\n",
       "      <td>0.059</td>\n",
       "      <td>0.941</td>\n",
       "      <td>0.000</td>\n",
       "      <td>-0.2960</td>\n",
       "      <td>__video__ __image__ __image__ __image__ __imag...</td>\n",
       "      <td>Ged Vendas E Serviços</td>\n",
       "      <td>2024-01-01T08:35:39.067318-03:00</td>\n",
       "      <td>como um tradutor, eu não consigo analisar imag...</td>\n",
       "      <td>negative</td>\n",
       "    </tr>\n",
       "  </tbody>\n",
       "</table>\n",
       "</div>"
      ],
      "text/plain": [
       "                 chat_id    neg    neu    pos  compound  \\\n",
       "5   3HX5TD1K48QBH4IDESXZ  0.098  0.839  0.063   -0.4304   \n",
       "25  UL8J37JJ1MCYVJZOOBXJ  0.059  0.941  0.000   -0.2960   \n",
       "\n",
       "                                              message                   user  \\\n",
       "5   pode deixar, sua ajuda muito é de pouca avalia...        Fernando Bronté   \n",
       "25  __video__ __image__ __image__ __image__ __imag...  Ged Vendas E Serviços   \n",
       "\n",
       "                          created_at  \\\n",
       "5   2023-12-13T11:02:26.117422-03:00   \n",
       "25  2024-01-01T08:35:39.067318-03:00   \n",
       "\n",
       "                                        message_trans vaders_sentiment  \n",
       "5   you can leave it, your help is of little value...         negative  \n",
       "25  como um tradutor, eu não consigo analisar imag...         negative  "
      ]
     },
     "execution_count": 69,
     "metadata": {},
     "output_type": "execute_result"
    }
   ],
   "source": [
    "#selecione as linhas que deram negativo\n",
    "\n",
    "vaders[vaders['vaders_sentiment'] == 'negative']"
   ]
  },
  {
   "cell_type": "code",
   "execution_count": 70,
   "metadata": {},
   "outputs": [
    {
     "data": {
      "text/plain": [
       "vaders_sentiment\n",
       "positive    24\n",
       "neutral      4\n",
       "negative     2\n",
       "Name: count, dtype: int64"
      ]
     },
     "execution_count": 70,
     "metadata": {},
     "output_type": "execute_result"
    }
   ],
   "source": [
    "#conte quantos sentment foram positivos, negativos e neutros\n",
    "\n",
    "vaders['vaders_sentiment'].value_counts()"
   ]
  },
  {
   "cell_type": "markdown",
   "metadata": {},
   "source": [
    "ROBERTA TEST"
   ]
  },
  {
   "cell_type": "code",
   "execution_count": 71,
   "metadata": {},
   "outputs": [],
   "source": [
    "from transformers import AutoTokenizer, AutoModelForSequenceClassification\n",
    "from scipy.special import softmax"
   ]
  },
  {
   "cell_type": "code",
   "execution_count": 72,
   "metadata": {},
   "outputs": [],
   "source": [
    "MODEL = f\"cardiffnlp/twitter-roberta-base-sentiment\"\n",
    "tokenizer = AutoTokenizer.from_pretrained(MODEL)\n",
    "model = AutoModelForSequenceClassification.from_pretrained(MODEL)"
   ]
  },
  {
   "cell_type": "code",
   "execution_count": 73,
   "metadata": {},
   "outputs": [
    {
     "name": "stdout",
     "output_type": "stream",
     "text": [
      "It was a great day!\n"
     ]
    }
   ],
   "source": [
    "example2 = 'It was a great day!'\n",
    "print(example2)"
   ]
  },
  {
   "cell_type": "code",
   "execution_count": 74,
   "metadata": {},
   "outputs": [
    {
     "name": "stdout",
     "output_type": "stream",
     "text": [
      "{'roberta_neg': 0.86941254, 'roberta_neu': 0.11667889, 'roberta_pos': 0.01390859}\n"
     ]
    }
   ],
   "source": [
    "encoded_text = tokenizer(example, return_tensors=\"pt\")\n",
    "output = model(**encoded_text)\n",
    "scores = output[0][0].detach().numpy()\n",
    "scores = softmax(scores)\n",
    "scores_dict = {\n",
    "    'roberta_neg': scores[0],\n",
    "    'roberta_neu': scores[1],\n",
    "    'roberta_pos': scores[2]\n",
    "}\n",
    "\n",
    "print(scores_dict)"
   ]
  },
  {
   "cell_type": "code",
   "execution_count": 75,
   "metadata": {},
   "outputs": [],
   "source": [
    "def polarity_scores_roberta(example):\n",
    "    encoded_text = tokenizer(example, return_tensors=\"pt\")\n",
    "    output = model(**encoded_text)\n",
    "    scores = output[0][0].detach().numpy()\n",
    "    scores = softmax(scores)\n",
    "    scores_dict = {\n",
    "        'roberta_neg': scores[0],\n",
    "        'roberta_neu': scores[1],\n",
    "        'roberta_pos': scores[2]\n",
    "    }\n",
    "    return scores_dict"
   ]
  },
  {
   "cell_type": "code",
   "execution_count": 76,
   "metadata": {},
   "outputs": [
    {
     "data": {
      "application/vnd.jupyter.widget-view+json": {
       "model_id": "8ae8026538754447a65bd15f003c0cee",
       "version_major": 2,
       "version_minor": 0
      },
      "text/plain": [
       "  0%|          | 0/30 [00:00<?, ?it/s]"
      ]
     },
     "metadata": {},
     "output_type": "display_data"
    }
   ],
   "source": [
    "res = {}\n",
    "for i, row in tqdm(df.iterrows(), total=len(df)):\n",
    "    try:    \n",
    "        text = row['message_trans']\n",
    "        myid = row['chat_id']\n",
    "        roberta_results = polarity_scores_roberta(text)\n",
    "        res[myid] = roberta_results\n",
    "    except RuntimeError:\n",
    "        print(f'Broke for chat_id {chat_id}')"
   ]
  },
  {
   "cell_type": "code",
   "execution_count": 77,
   "metadata": {},
   "outputs": [],
   "source": [
    "roberta = pd.DataFrame(res).T\n",
    "roberta = roberta.reset_index().rename(columns={'index': 'chat_id'})\n",
    "roberta = roberta.merge(df, how='left')"
   ]
  },
  {
   "cell_type": "code",
   "execution_count": 78,
   "metadata": {},
   "outputs": [
    {
     "data": {
      "text/html": [
       "<div>\n",
       "<style scoped>\n",
       "    .dataframe tbody tr th:only-of-type {\n",
       "        vertical-align: middle;\n",
       "    }\n",
       "\n",
       "    .dataframe tbody tr th {\n",
       "        vertical-align: top;\n",
       "    }\n",
       "\n",
       "    .dataframe thead th {\n",
       "        text-align: right;\n",
       "    }\n",
       "</style>\n",
       "<table border=\"1\" class=\"dataframe\">\n",
       "  <thead>\n",
       "    <tr style=\"text-align: right;\">\n",
       "      <th></th>\n",
       "      <th>chat_id</th>\n",
       "      <th>roberta_neg</th>\n",
       "      <th>roberta_neu</th>\n",
       "      <th>roberta_pos</th>\n",
       "      <th>message</th>\n",
       "      <th>user</th>\n",
       "      <th>created_at</th>\n",
       "      <th>message_trans</th>\n",
       "    </tr>\n",
       "  </thead>\n",
       "  <tbody>\n",
       "    <tr>\n",
       "      <th>0</th>\n",
       "      <td>14VVFZN7R80UNPVA8Q04</td>\n",
       "      <td>0.12992</td>\n",
       "      <td>0.732714</td>\n",
       "      <td>0.137366</td>\n",
       "      <td>Empresa Preciso cadastrsr outra empresan __aud...</td>\n",
       "      <td>Seoneco 🐸</td>\n",
       "      <td>2023-11-27T13:20:31.515216-03:00</td>\n",
       "      <td>company i need to register another company __a...</td>\n",
       "    </tr>\n",
       "    <tr>\n",
       "      <th>1</th>\n",
       "      <td>1DP3MDANB0OGQKASW1OM</td>\n",
       "      <td>0.06929</td>\n",
       "      <td>0.387703</td>\n",
       "      <td>0.543006</td>\n",
       "      <td>O cadastro já deu certo agora só falta pedir a...</td>\n",
       "      <td>Welder Vendedor</td>\n",
       "      <td>2024-01-02T12:35:00.727364-03:00</td>\n",
       "      <td>the registration has already been successful, ...</td>\n",
       "    </tr>\n",
       "  </tbody>\n",
       "</table>\n",
       "</div>"
      ],
      "text/plain": [
       "                chat_id  roberta_neg  roberta_neu  roberta_pos  \\\n",
       "0  14VVFZN7R80UNPVA8Q04      0.12992     0.732714     0.137366   \n",
       "1  1DP3MDANB0OGQKASW1OM      0.06929     0.387703     0.543006   \n",
       "\n",
       "                                             message             user  \\\n",
       "0  Empresa Preciso cadastrsr outra empresan __aud...        Seoneco 🐸   \n",
       "1  O cadastro já deu certo agora só falta pedir a...  Welder Vendedor   \n",
       "\n",
       "                         created_at  \\\n",
       "0  2023-11-27T13:20:31.515216-03:00   \n",
       "1  2024-01-02T12:35:00.727364-03:00   \n",
       "\n",
       "                                       message_trans  \n",
       "0  company i need to register another company __a...  \n",
       "1  the registration has already been successful, ...  "
      ]
     },
     "execution_count": 78,
     "metadata": {},
     "output_type": "execute_result"
    }
   ],
   "source": [
    "roberta.head(2)"
   ]
  },
  {
   "cell_type": "code",
   "execution_count": 79,
   "metadata": {},
   "outputs": [
    {
     "data": {
      "text/html": [
       "<div>\n",
       "<style scoped>\n",
       "    .dataframe tbody tr th:only-of-type {\n",
       "        vertical-align: middle;\n",
       "    }\n",
       "\n",
       "    .dataframe tbody tr th {\n",
       "        vertical-align: top;\n",
       "    }\n",
       "\n",
       "    .dataframe thead th {\n",
       "        text-align: right;\n",
       "    }\n",
       "</style>\n",
       "<table border=\"1\" class=\"dataframe\">\n",
       "  <thead>\n",
       "    <tr style=\"text-align: right;\">\n",
       "      <th></th>\n",
       "      <th>chat_id</th>\n",
       "      <th>roberta_neg</th>\n",
       "      <th>roberta_neu</th>\n",
       "      <th>roberta_pos</th>\n",
       "      <th>message</th>\n",
       "      <th>user</th>\n",
       "      <th>created_at</th>\n",
       "      <th>message_trans</th>\n",
       "      <th>sentiment_roberta</th>\n",
       "    </tr>\n",
       "  </thead>\n",
       "  <tbody>\n",
       "    <tr>\n",
       "      <th>0</th>\n",
       "      <td>14VVFZN7R80UNPVA8Q04</td>\n",
       "      <td>0.129920</td>\n",
       "      <td>0.732714</td>\n",
       "      <td>0.137366</td>\n",
       "      <td>Empresa Preciso cadastrsr outra empresan __aud...</td>\n",
       "      <td>Seoneco 🐸</td>\n",
       "      <td>2023-11-27T13:20:31.515216-03:00</td>\n",
       "      <td>company i need to register another company __a...</td>\n",
       "      <td>neutral</td>\n",
       "    </tr>\n",
       "    <tr>\n",
       "      <th>1</th>\n",
       "      <td>1DP3MDANB0OGQKASW1OM</td>\n",
       "      <td>0.069290</td>\n",
       "      <td>0.387703</td>\n",
       "      <td>0.543006</td>\n",
       "      <td>O cadastro já deu certo agora só falta pedir a...</td>\n",
       "      <td>Welder Vendedor</td>\n",
       "      <td>2024-01-02T12:35:00.727364-03:00</td>\n",
       "      <td>the registration has already been successful, ...</td>\n",
       "      <td>positive</td>\n",
       "    </tr>\n",
       "    <tr>\n",
       "      <th>2</th>\n",
       "      <td>1OHYT505S3V28ELHD28U</td>\n",
       "      <td>0.110096</td>\n",
       "      <td>0.800363</td>\n",
       "      <td>0.089541</td>\n",
       "      <td>Mais eu sou uma criança Como faço Eu sou uma c...</td>\n",
       "      <td>Tulio undefined</td>\n",
       "      <td>2023-11-30T11:02:34.54443-03:00</td>\n",
       "      <td>desculpe, mas o texto fornecido é muito confus...</td>\n",
       "      <td>neutral</td>\n",
       "    </tr>\n",
       "    <tr>\n",
       "      <th>3</th>\n",
       "      <td>25472dae-41be-4db5-b465-92b3ee0f285d</td>\n",
       "      <td>0.071467</td>\n",
       "      <td>0.870992</td>\n",
       "      <td>0.057541</td>\n",
       "      <td>Meu salário é 2000,00 e vou tirar 10 dias de f...</td>\n",
       "      <td>Thaissa Delgado</td>\n",
       "      <td>2023-12-04T19:42:38.730139-03:00</td>\n",
       "      <td>my salary is 2000.00 and i'm going to take 10 ...</td>\n",
       "      <td>neutral</td>\n",
       "    </tr>\n",
       "    <tr>\n",
       "      <th>4</th>\n",
       "      <td>2S8DYFBPKE8253H7EFPH</td>\n",
       "      <td>0.007801</td>\n",
       "      <td>0.143044</td>\n",
       "      <td>0.849155</td>\n",
       "      <td>O pagamento em 12x para o cliente tem juros? E...</td>\n",
       "      <td>Cidadedossonhosmoveis undefined</td>\n",
       "      <td>2023-12-07T14:08:58.011084-03:00</td>\n",
       "      <td>does the 12x payment for the customer have int...</td>\n",
       "      <td>positive</td>\n",
       "    </tr>\n",
       "  </tbody>\n",
       "</table>\n",
       "</div>"
      ],
      "text/plain": [
       "                                chat_id  roberta_neg  roberta_neu  \\\n",
       "0                  14VVFZN7R80UNPVA8Q04     0.129920     0.732714   \n",
       "1                  1DP3MDANB0OGQKASW1OM     0.069290     0.387703   \n",
       "2                  1OHYT505S3V28ELHD28U     0.110096     0.800363   \n",
       "3  25472dae-41be-4db5-b465-92b3ee0f285d     0.071467     0.870992   \n",
       "4                  2S8DYFBPKE8253H7EFPH     0.007801     0.143044   \n",
       "\n",
       "   roberta_pos                                            message  \\\n",
       "0     0.137366  Empresa Preciso cadastrsr outra empresan __aud...   \n",
       "1     0.543006  O cadastro já deu certo agora só falta pedir a...   \n",
       "2     0.089541  Mais eu sou uma criança Como faço Eu sou uma c...   \n",
       "3     0.057541  Meu salário é 2000,00 e vou tirar 10 dias de f...   \n",
       "4     0.849155  O pagamento em 12x para o cliente tem juros? E...   \n",
       "\n",
       "                              user                        created_at  \\\n",
       "0                        Seoneco 🐸  2023-11-27T13:20:31.515216-03:00   \n",
       "1                  Welder Vendedor  2024-01-02T12:35:00.727364-03:00   \n",
       "2                  Tulio undefined   2023-11-30T11:02:34.54443-03:00   \n",
       "3                  Thaissa Delgado  2023-12-04T19:42:38.730139-03:00   \n",
       "4  Cidadedossonhosmoveis undefined  2023-12-07T14:08:58.011084-03:00   \n",
       "\n",
       "                                       message_trans sentiment_roberta  \n",
       "0  company i need to register another company __a...           neutral  \n",
       "1  the registration has already been successful, ...          positive  \n",
       "2  desculpe, mas o texto fornecido é muito confus...           neutral  \n",
       "3  my salary is 2000.00 and i'm going to take 10 ...           neutral  \n",
       "4  does the 12x payment for the customer have int...          positive  "
      ]
     },
     "execution_count": 79,
     "metadata": {},
     "output_type": "execute_result"
    }
   ],
   "source": [
    "#crie uma coluna que mostre o sentimento de acordo com o resultado do modelo roberta, considerando que se o valor do roberta_neg for maior que o roberta_pos e o roberta_neu, o sentimento é negativo. Se o valor do roberta_pos for maior que o roberta_neg e que o roberta_neu, o sentimento é positivo. E se o valor do roberta_neu for maior que o roberta_neg e que o roberta_pos, o sentimento é neutro.\n",
    "\n",
    "roberta.loc[(roberta['roberta_neg'] > roberta['roberta_neu']) & (roberta['roberta_neg'] > roberta['roberta_pos']), 'sentiment_roberta'] = 'negative'\n",
    "roberta.loc[(roberta['roberta_pos'] > roberta['roberta_neg']) & (roberta['roberta_pos'] > roberta['roberta_neu']), 'sentiment_roberta'] = 'positive'\n",
    "roberta.loc[(roberta['roberta_neu'] > roberta['roberta_neg']) & (roberta['roberta_neu'] > roberta['roberta_pos']), 'sentiment_roberta'] = 'neutral'\n",
    "\n",
    "roberta.head(5)"
   ]
  },
  {
   "cell_type": "code",
   "execution_count": 80,
   "metadata": {},
   "outputs": [
    {
     "data": {
      "text/plain": [
       "sentiment_roberta\n",
       "neutral     23\n",
       "negative     4\n",
       "positive     3\n",
       "Name: count, dtype: int64"
      ]
     },
     "execution_count": 80,
     "metadata": {},
     "output_type": "execute_result"
    }
   ],
   "source": [
    "#conte quantos sentment foram positivos, negativos e neutros\n",
    "\n",
    "roberta['sentiment_roberta'].value_counts()"
   ]
  },
  {
   "cell_type": "code",
   "execution_count": 81,
   "metadata": {},
   "outputs": [
    {
     "data": {
      "text/html": [
       "<div>\n",
       "<style scoped>\n",
       "    .dataframe tbody tr th:only-of-type {\n",
       "        vertical-align: middle;\n",
       "    }\n",
       "\n",
       "    .dataframe tbody tr th {\n",
       "        vertical-align: top;\n",
       "    }\n",
       "\n",
       "    .dataframe thead th {\n",
       "        text-align: right;\n",
       "    }\n",
       "</style>\n",
       "<table border=\"1\" class=\"dataframe\">\n",
       "  <thead>\n",
       "    <tr style=\"text-align: right;\">\n",
       "      <th></th>\n",
       "      <th>chat_id</th>\n",
       "      <th>roberta_neg</th>\n",
       "      <th>roberta_neu</th>\n",
       "      <th>roberta_pos</th>\n",
       "      <th>message</th>\n",
       "      <th>user</th>\n",
       "      <th>created_at</th>\n",
       "      <th>message_trans</th>\n",
       "      <th>sentiment_roberta</th>\n",
       "    </tr>\n",
       "  </thead>\n",
       "  <tbody>\n",
       "    <tr>\n",
       "      <th>5</th>\n",
       "      <td>3HX5TD1K48QBH4IDESXZ</td>\n",
       "      <td>0.869413</td>\n",
       "      <td>0.116679</td>\n",
       "      <td>0.013909</td>\n",
       "      <td>pode deixar, sua ajuda muito é de pouca avalia...</td>\n",
       "      <td>Fernando Bronté</td>\n",
       "      <td>2023-12-13T11:02:26.117422-03:00</td>\n",
       "      <td>you can leave it, your help is of little value...</td>\n",
       "      <td>negative</td>\n",
       "    </tr>\n",
       "    <tr>\n",
       "      <th>13</th>\n",
       "      <td>DT21UXHHZXMECABELPUI</td>\n",
       "      <td>0.595047</td>\n",
       "      <td>0.357828</td>\n",
       "      <td>0.047126</td>\n",
       "      <td>Ok Vou dar uma verificada! Difícil de acredita...</td>\n",
       "      <td>Fernando undefined</td>\n",
       "      <td>2023-12-14T09:39:56.224283-03:00</td>\n",
       "      <td>ok, i'll check it out! hard to believe, the bu...</td>\n",
       "      <td>negative</td>\n",
       "    </tr>\n",
       "    <tr>\n",
       "      <th>17</th>\n",
       "      <td>N4QTWLZ6T43KS48FWH7F</td>\n",
       "      <td>0.481320</td>\n",
       "      <td>0.444476</td>\n",
       "      <td>0.074204</td>\n",
       "      <td>Trabalha com blue Qual fábrica de bike Normal ...</td>\n",
       "      <td>Fabio Sotero -magnum Tires</td>\n",
       "      <td>2023-12-05T17:46:42.463539-03:00</td>\n",
       "      <td>this text seems to be a bit disjointed and lac...</td>\n",
       "      <td>negative</td>\n",
       "    </tr>\n",
       "    <tr>\n",
       "      <th>23</th>\n",
       "      <td>R1C3FDGJVII4ZNO3DZLC</td>\n",
       "      <td>0.501066</td>\n",
       "      <td>0.425110</td>\n",
       "      <td>0.073824</td>\n",
       "      <td>Ok Vou aguardar o recebimento do e mail Agrade...</td>\n",
       "      <td>Munaretto Samuel</td>\n",
       "      <td>2023-12-19T11:53:58.295897-03:00</td>\n",
       "      <td>ok, i will wait for the email receipt. we appr...</td>\n",
       "      <td>negative</td>\n",
       "    </tr>\n",
       "  </tbody>\n",
       "</table>\n",
       "</div>"
      ],
      "text/plain": [
       "                 chat_id  roberta_neg  roberta_neu  roberta_pos  \\\n",
       "5   3HX5TD1K48QBH4IDESXZ     0.869413     0.116679     0.013909   \n",
       "13  DT21UXHHZXMECABELPUI     0.595047     0.357828     0.047126   \n",
       "17  N4QTWLZ6T43KS48FWH7F     0.481320     0.444476     0.074204   \n",
       "23  R1C3FDGJVII4ZNO3DZLC     0.501066     0.425110     0.073824   \n",
       "\n",
       "                                              message  \\\n",
       "5   pode deixar, sua ajuda muito é de pouca avalia...   \n",
       "13  Ok Vou dar uma verificada! Difícil de acredita...   \n",
       "17  Trabalha com blue Qual fábrica de bike Normal ...   \n",
       "23  Ok Vou aguardar o recebimento do e mail Agrade...   \n",
       "\n",
       "                          user                        created_at  \\\n",
       "5              Fernando Bronté  2023-12-13T11:02:26.117422-03:00   \n",
       "13          Fernando undefined  2023-12-14T09:39:56.224283-03:00   \n",
       "17  Fabio Sotero -magnum Tires  2023-12-05T17:46:42.463539-03:00   \n",
       "23            Munaretto Samuel  2023-12-19T11:53:58.295897-03:00   \n",
       "\n",
       "                                        message_trans sentiment_roberta  \n",
       "5   you can leave it, your help is of little value...          negative  \n",
       "13  ok, i'll check it out! hard to believe, the bu...          negative  \n",
       "17  this text seems to be a bit disjointed and lac...          negative  \n",
       "23  ok, i will wait for the email receipt. we appr...          negative  "
      ]
     },
     "execution_count": 81,
     "metadata": {},
     "output_type": "execute_result"
    }
   ],
   "source": [
    "# mostre os negativos\n",
    "\n",
    "roberta[roberta['sentiment_roberta'] == 'negative']"
   ]
  },
  {
   "cell_type": "markdown",
   "metadata": {},
   "source": [
    "OPENAI TEST"
   ]
  },
  {
   "cell_type": "code",
   "execution_count": 82,
   "metadata": {},
   "outputs": [],
   "source": [
    "import os\n",
    "import openai\n",
    "\n",
    "openai.api_key = os.getenv(\"OPENAI_API_KEY\")"
   ]
  },
  {
   "cell_type": "code",
   "execution_count": 83,
   "metadata": {},
   "outputs": [],
   "source": [
    "def sentiment_analysis(text):\n",
    "    prompt = f\"\"\"Você é treinado para analisar e detectar o sentimento dos clientes que foram atendidos pelo atendimento do nosso chatbot.\n",
    "    Somos uma fintech e queremos vender nossos serviços financeiros, desde a assinatura da nossa conta digital até a venda das nossas maquininhas de cartão para os clientes façam suas vendas conosco.\n",
    "    Você deve considerar isso ao analisar as respostas dos clientes, e identificar se eles estão satisfeitos com o atendimento e com a nossa empresa.\n",
    "    Você vai ler um compilado das respostas dos clientes em uma conversa e vai fazer uma análise das palavras separadamente e do contexto do texto, determinando se o sentimento desse texto é: Positivo, Negativo ou Neutro.\n",
    "    Lembre que positivo é o sentimento de satisfação, alegria, felicidade, euforia, etc. Negativo é o sentimento de tristeza, raiva, frustração, etc. E neutro é o sentimento de indiferença, neutralidade, etc.\n",
    "    Além disso, quando o cliente repetir mais de uma vez alguma frase, também pode ser um sinal de sentimento negativo, e se ele as respostas dele não parecem com uma conversa normal, também pode ser um sinal de sentimento negativo, porque quer dizer que ele cansou e abandonou a conversa.\n",
    "    Por outro aldo, se o texto de respostas dele tiver palavras de agradecimento, um aceite dos nossos serviços ou palavras positivas, o sentimento é positivo.\n",
    "    O sentimento neutro é somente para quando o cliente só perguntou sobre os serviços da empresa, sem demonstrar interesse ou insatisfação.\n",
    "    Se não tiver certeza de uma resposta, você pode dizer \"Não tenho certeza\" e recomendar a revisão do usuário manualmente.\n",
    "    {text}\"\"\"\n",
    "\n",
    "    try:\n",
    "        response = openai.ChatCompletion.create(\n",
    "            model=\"gpt-4\",\n",
    "            messages=[\n",
    "                {\"role\": \"system\", \"content\": \"Você é um assistente prestativo.\"},\n",
    "                {\"role\": \"user\", \"content\": prompt}\n",
    "            ],\n",
    "            max_tokens=60,\n",
    "            temperature=0\n",
    "        )\n",
    "\n",
    "        sentiment = response.choices[0].message['content'].strip().lower()\n",
    "        return sentiment\n",
    "    except Exception as e:\n",
    "        print(\"Ocorreu um erro:\", e)\n",
    "        return \"Erro\""
   ]
  },
  {
   "cell_type": "code",
   "execution_count": 84,
   "metadata": {},
   "outputs": [
    {
     "name": "stdout",
     "output_type": "stream",
     "text": [
      "Estou feliz com o produto! : Sentiment is: o sentimento deste texto é positivo. o cliente expressou satisfação com o produto, o que indica que ele está feliz com o serviço fornecido.\n"
     ]
    }
   ],
   "source": [
    "# Example usage\n",
    "input_text = \"Estou feliz com o produto!\"\n",
    "sentiment = sentiment_analysis(input_text)\n",
    "print(input_text, \": Sentiment is:\", sentiment)"
   ]
  },
  {
   "cell_type": "code",
   "execution_count": 106,
   "metadata": {},
   "outputs": [],
   "source": [
    "prompt = df"
   ]
  },
  {
   "cell_type": "code",
   "execution_count": 107,
   "metadata": {},
   "outputs": [
    {
     "data": {
      "text/html": [
       "<div>\n",
       "<style scoped>\n",
       "    .dataframe tbody tr th:only-of-type {\n",
       "        vertical-align: middle;\n",
       "    }\n",
       "\n",
       "    .dataframe tbody tr th {\n",
       "        vertical-align: top;\n",
       "    }\n",
       "\n",
       "    .dataframe thead th {\n",
       "        text-align: right;\n",
       "    }\n",
       "</style>\n",
       "<table border=\"1\" class=\"dataframe\">\n",
       "  <thead>\n",
       "    <tr style=\"text-align: right;\">\n",
       "      <th></th>\n",
       "      <th>chat_id</th>\n",
       "      <th>message</th>\n",
       "      <th>user</th>\n",
       "      <th>created_at</th>\n",
       "      <th>message_trans</th>\n",
       "      <th>prompt_sentiment</th>\n",
       "    </tr>\n",
       "  </thead>\n",
       "  <tbody>\n",
       "    <tr>\n",
       "      <th>0</th>\n",
       "      <td>14VVFZN7R80UNPVA8Q04</td>\n",
       "      <td>Empresa Preciso cadastrsr outra empresan __aud...</td>\n",
       "      <td>Seoneco 🐸</td>\n",
       "      <td>2023-11-27T13:20:31.515216-03:00</td>\n",
       "      <td>company i need to register another company __a...</td>\n",
       "      <td>a análise do sentimento desse texto é neutra. ...</td>\n",
       "    </tr>\n",
       "  </tbody>\n",
       "</table>\n",
       "</div>"
      ],
      "text/plain": [
       "                chat_id                                            message  \\\n",
       "0  14VVFZN7R80UNPVA8Q04  Empresa Preciso cadastrsr outra empresan __aud...   \n",
       "\n",
       "        user                        created_at  \\\n",
       "0  Seoneco 🐸  2023-11-27T13:20:31.515216-03:00   \n",
       "\n",
       "                                       message_trans  \\\n",
       "0  company i need to register another company __a...   \n",
       "\n",
       "                                    prompt_sentiment  \n",
       "0  a análise do sentimento desse texto é neutra. ...  "
      ]
     },
     "execution_count": 107,
     "metadata": {},
     "output_type": "execute_result"
    }
   ],
   "source": [
    "prompt.head(1)"
   ]
  },
  {
   "cell_type": "code",
   "execution_count": 87,
   "metadata": {},
   "outputs": [],
   "source": [
    "prompt['prompt_sentiment'] = prompt['message'].apply(sentiment_analysis)"
   ]
  },
  {
   "cell_type": "code",
   "execution_count": 88,
   "metadata": {},
   "outputs": [
    {
     "data": {
      "text/html": [
       "<div>\n",
       "<style scoped>\n",
       "    .dataframe tbody tr th:only-of-type {\n",
       "        vertical-align: middle;\n",
       "    }\n",
       "\n",
       "    .dataframe tbody tr th {\n",
       "        vertical-align: top;\n",
       "    }\n",
       "\n",
       "    .dataframe thead th {\n",
       "        text-align: right;\n",
       "    }\n",
       "</style>\n",
       "<table border=\"1\" class=\"dataframe\">\n",
       "  <thead>\n",
       "    <tr style=\"text-align: right;\">\n",
       "      <th></th>\n",
       "      <th>chat_id</th>\n",
       "      <th>message</th>\n",
       "      <th>user</th>\n",
       "      <th>created_at</th>\n",
       "      <th>message_trans</th>\n",
       "      <th>prompt_sentiment</th>\n",
       "    </tr>\n",
       "  </thead>\n",
       "  <tbody>\n",
       "    <tr>\n",
       "      <th>4</th>\n",
       "      <td>2S8DYFBPKE8253H7EFPH</td>\n",
       "      <td>O pagamento em 12x para o cliente tem juros? E...</td>\n",
       "      <td>Cidadedossonhosmoveis undefined</td>\n",
       "      <td>2023-12-07T14:08:58.011084-03:00</td>\n",
       "      <td>does the 12x payment for the customer have int...</td>\n",
       "      <td>analisando o texto, o sentimento geral parece ...</td>\n",
       "    </tr>\n",
       "    <tr>\n",
       "      <th>7</th>\n",
       "      <td>465f7b9f-cf21-4d63-8faf-6f9b253c971a</td>\n",
       "      <td>qual o link para matricular na totalpass? Qual...</td>\n",
       "      <td>Larissa Feitosa</td>\n",
       "      <td>2023-11-29T14:43:00.202194-03:00</td>\n",
       "      <td>what is the link to enroll in totalpass? what ...</td>\n",
       "      <td>o sentimento expresso neste texto parece ser n...</td>\n",
       "    </tr>\n",
       "    <tr>\n",
       "      <th>8</th>\n",
       "      <td>4JH06S7FECE1IXT73JOP</td>\n",
       "      <td>Como me tornar fornecedor da Blu? Parceiros bl...</td>\n",
       "      <td>Delaine Baruff</td>\n",
       "      <td>2023-12-19T09:24:47.056425-03:00</td>\n",
       "      <td>how do i become a supplier for blu? blu partne...</td>\n",
       "      <td>a análise do sentimento desse texto é neutra. ...</td>\n",
       "    </tr>\n",
       "    <tr>\n",
       "      <th>10</th>\n",
       "      <td>6U66WQYCNCKQ2GANVFSG</td>\n",
       "      <td>A minha estar cobrando Taxa de aluguel da maqu...</td>\n",
       "      <td>Irene🦁 5598985529135</td>\n",
       "      <td>2023-12-13T16:54:05.515712-03:00</td>\n",
       "      <td>my account is charging a rental fee for the ma...</td>\n",
       "      <td>o sentimento desse texto parece ser neutro. o ...</td>\n",
       "    </tr>\n",
       "    <tr>\n",
       "      <th>11</th>\n",
       "      <td>AARXFUPLMN15SVO8GEGT</td>\n",
       "      <td>O cadastro Como faço pra saber se foi aprovado...</td>\n",
       "      <td>Fabiano Mesquista</td>\n",
       "      <td>2023-12-05T14:42:48.06681-03:00</td>\n",
       "      <td>the registration how do i know if it was appro...</td>\n",
       "      <td>a análise do sentimento desse texto é neutra. ...</td>\n",
       "    </tr>\n",
       "    <tr>\n",
       "      <th>19</th>\n",
       "      <td>OPVO3OQOFO8P8I0FU43M</td>\n",
       "      <td>Taxas link de pagamento Depois dos 6 meses qua...</td>\n",
       "      <td>Mania De Óculos - João Victor</td>\n",
       "      <td>2023-12-05T15:50:39.318651-03:00</td>\n",
       "      <td>payment link fees after 6 months what is the f...</td>\n",
       "      <td>a análise do sentimento desse texto é neutro. ...</td>\n",
       "    </tr>\n",
       "    <tr>\n",
       "      <th>23</th>\n",
       "      <td>R1C3FDGJVII4ZNO3DZLC</td>\n",
       "      <td>Ok Vou aguardar o recebimento do e mail Agrade...</td>\n",
       "      <td>Munaretto Samuel</td>\n",
       "      <td>2023-12-19T11:53:58.295897-03:00</td>\n",
       "      <td>ok, i will wait for the email receipt. we appr...</td>\n",
       "      <td>a análise do sentimento desse texto é neutra. ...</td>\n",
       "    </tr>\n",
       "    <tr>\n",
       "      <th>25</th>\n",
       "      <td>UL8J37JJ1MCYVJZOOBXJ</td>\n",
       "      <td>__video__ __image__ __image__ __image__ __imag...</td>\n",
       "      <td>Ged Vendas E Serviços</td>\n",
       "      <td>2024-01-01T08:35:39.067318-03:00</td>\n",
       "      <td>como um tradutor, eu não consigo analisar imag...</td>\n",
       "      <td>a análise do sentimento deste texto é neutro. ...</td>\n",
       "    </tr>\n",
       "    <tr>\n",
       "      <th>28</th>\n",
       "      <td>XUOX2WD5ORMADR46Y4IV</td>\n",
       "      <td>Vou procurar me informar melhor depois entro e...</td>\n",
       "      <td>Lucas undefined</td>\n",
       "      <td>2023-12-04T12:09:22.459087-03:00</td>\n",
       "      <td>i'll seek to inform myself better then i'll ge...</td>\n",
       "      <td>a análise do sentimento desse texto é neutra. ...</td>\n",
       "    </tr>\n",
       "    <tr>\n",
       "      <th>29</th>\n",
       "      <td>YWTMATI67F3RM1Z328ZB</td>\n",
       "      <td>Então enquanto não chega a maquininha posso es...</td>\n",
       "      <td>Ana undefined</td>\n",
       "      <td>2023-12-01T13:38:01.716098-03:00</td>\n",
       "      <td>so while the machine doesn't arrive, can i be ...</td>\n",
       "      <td>o sentimento do texto é neutro. o cliente está...</td>\n",
       "    </tr>\n",
       "  </tbody>\n",
       "</table>\n",
       "</div>"
      ],
      "text/plain": [
       "                                 chat_id  \\\n",
       "4                   2S8DYFBPKE8253H7EFPH   \n",
       "7   465f7b9f-cf21-4d63-8faf-6f9b253c971a   \n",
       "8                   4JH06S7FECE1IXT73JOP   \n",
       "10                  6U66WQYCNCKQ2GANVFSG   \n",
       "11                  AARXFUPLMN15SVO8GEGT   \n",
       "19                  OPVO3OQOFO8P8I0FU43M   \n",
       "23                  R1C3FDGJVII4ZNO3DZLC   \n",
       "25                  UL8J37JJ1MCYVJZOOBXJ   \n",
       "28                  XUOX2WD5ORMADR46Y4IV   \n",
       "29                  YWTMATI67F3RM1Z328ZB   \n",
       "\n",
       "                                              message  \\\n",
       "4   O pagamento em 12x para o cliente tem juros? E...   \n",
       "7   qual o link para matricular na totalpass? Qual...   \n",
       "8   Como me tornar fornecedor da Blu? Parceiros bl...   \n",
       "10  A minha estar cobrando Taxa de aluguel da maqu...   \n",
       "11  O cadastro Como faço pra saber se foi aprovado...   \n",
       "19  Taxas link de pagamento Depois dos 6 meses qua...   \n",
       "23  Ok Vou aguardar o recebimento do e mail Agrade...   \n",
       "25  __video__ __image__ __image__ __image__ __imag...   \n",
       "28  Vou procurar me informar melhor depois entro e...   \n",
       "29  Então enquanto não chega a maquininha posso es...   \n",
       "\n",
       "                               user                        created_at  \\\n",
       "4   Cidadedossonhosmoveis undefined  2023-12-07T14:08:58.011084-03:00   \n",
       "7                   Larissa Feitosa  2023-11-29T14:43:00.202194-03:00   \n",
       "8                    Delaine Baruff  2023-12-19T09:24:47.056425-03:00   \n",
       "10             Irene🦁 5598985529135  2023-12-13T16:54:05.515712-03:00   \n",
       "11                Fabiano Mesquista   2023-12-05T14:42:48.06681-03:00   \n",
       "19    Mania De Óculos - João Victor  2023-12-05T15:50:39.318651-03:00   \n",
       "23                 Munaretto Samuel  2023-12-19T11:53:58.295897-03:00   \n",
       "25            Ged Vendas E Serviços  2024-01-01T08:35:39.067318-03:00   \n",
       "28                  Lucas undefined  2023-12-04T12:09:22.459087-03:00   \n",
       "29                    Ana undefined  2023-12-01T13:38:01.716098-03:00   \n",
       "\n",
       "                                        message_trans  \\\n",
       "4   does the 12x payment for the customer have int...   \n",
       "7   what is the link to enroll in totalpass? what ...   \n",
       "8   how do i become a supplier for blu? blu partne...   \n",
       "10  my account is charging a rental fee for the ma...   \n",
       "11  the registration how do i know if it was appro...   \n",
       "19  payment link fees after 6 months what is the f...   \n",
       "23  ok, i will wait for the email receipt. we appr...   \n",
       "25  como um tradutor, eu não consigo analisar imag...   \n",
       "28  i'll seek to inform myself better then i'll ge...   \n",
       "29  so while the machine doesn't arrive, can i be ...   \n",
       "\n",
       "                                     prompt_sentiment  \n",
       "4   analisando o texto, o sentimento geral parece ...  \n",
       "7   o sentimento expresso neste texto parece ser n...  \n",
       "8   a análise do sentimento desse texto é neutra. ...  \n",
       "10  o sentimento desse texto parece ser neutro. o ...  \n",
       "11  a análise do sentimento desse texto é neutra. ...  \n",
       "19  a análise do sentimento desse texto é neutro. ...  \n",
       "23  a análise do sentimento desse texto é neutra. ...  \n",
       "25  a análise do sentimento deste texto é neutro. ...  \n",
       "28  a análise do sentimento desse texto é neutra. ...  \n",
       "29  o sentimento do texto é neutro. o cliente está...  "
      ]
     },
     "execution_count": 88,
     "metadata": {},
     "output_type": "execute_result"
    }
   ],
   "source": [
    "#mostre as linhas que contém a palavra \"positivo\" no texto da coluna sentiment\n",
    "\n",
    "prompt[prompt['prompt_sentiment'].str.contains('positivo')]"
   ]
  },
  {
   "cell_type": "code",
   "execution_count": null,
   "metadata": {},
   "outputs": [],
   "source": []
  },
  {
   "cell_type": "code",
   "execution_count": 108,
   "metadata": {},
   "outputs": [],
   "source": [
    "#crie uma nova coluna que procura as palavras positivo ou positiva, negativo ou negativa ou neutro ou neutra e palavras parecidas com essas no texto e diz simplesmente que é positive, negative ou neutral\n",
    "\n",
    "prompt.loc[prompt['prompt_sentiment'].str.contains('positivo'), 'prompt_sentiment2'] = 'positive'\n",
    "prompt.loc[prompt['prompt_sentiment'].str.contains('positiva'), 'prompt_sentiment2'] = 'positive'\n",
    "prompt.loc[prompt['prompt_sentiment'].str.contains('negativo'), 'prompt_sentiment2'] = 'negative'\n",
    "prompt.loc[prompt['prompt_sentiment'].str.contains('negativa'), 'prompt_sentiment2'] = 'negative'\n",
    "prompt.loc[prompt['prompt_sentiment'].str.contains('neutro'), 'prompt_sentiment2'] = 'neutral'\n",
    "prompt.loc[prompt['prompt_sentiment'].str.contains('neutra'), 'prompt_sentiment2'] = 'neutral'\n"
   ]
  },
  {
   "cell_type": "code",
   "execution_count": 110,
   "metadata": {},
   "outputs": [
    {
     "data": {
      "text/html": [
       "<div>\n",
       "<style scoped>\n",
       "    .dataframe tbody tr th:only-of-type {\n",
       "        vertical-align: middle;\n",
       "    }\n",
       "\n",
       "    .dataframe tbody tr th {\n",
       "        vertical-align: top;\n",
       "    }\n",
       "\n",
       "    .dataframe thead th {\n",
       "        text-align: right;\n",
       "    }\n",
       "</style>\n",
       "<table border=\"1\" class=\"dataframe\">\n",
       "  <thead>\n",
       "    <tr style=\"text-align: right;\">\n",
       "      <th></th>\n",
       "      <th>chat_id</th>\n",
       "      <th>message</th>\n",
       "      <th>user</th>\n",
       "      <th>created_at</th>\n",
       "      <th>message_trans</th>\n",
       "      <th>prompt_sentiment</th>\n",
       "      <th>prompt_sentiment2</th>\n",
       "    </tr>\n",
       "  </thead>\n",
       "  <tbody>\n",
       "    <tr>\n",
       "      <th>0</th>\n",
       "      <td>14VVFZN7R80UNPVA8Q04</td>\n",
       "      <td>Empresa Preciso cadastrsr outra empresan __aud...</td>\n",
       "      <td>Seoneco 🐸</td>\n",
       "      <td>2023-11-27T13:20:31.515216-03:00</td>\n",
       "      <td>company i need to register another company __a...</td>\n",
       "      <td>a análise do sentimento desse texto é neutra. ...</td>\n",
       "      <td>neutral</td>\n",
       "    </tr>\n",
       "    <tr>\n",
       "      <th>1</th>\n",
       "      <td>1DP3MDANB0OGQKASW1OM</td>\n",
       "      <td>O cadastro já deu certo agora só falta pedir a...</td>\n",
       "      <td>Welder Vendedor</td>\n",
       "      <td>2024-01-02T12:35:00.727364-03:00</td>\n",
       "      <td>the registration has already been successful, ...</td>\n",
       "      <td>o sentimento do texto é negativo. o cliente pa...</td>\n",
       "      <td>negative</td>\n",
       "    </tr>\n",
       "    <tr>\n",
       "      <th>2</th>\n",
       "      <td>1OHYT505S3V28ELHD28U</td>\n",
       "      <td>Mais eu sou uma criança Como faço Eu sou uma c...</td>\n",
       "      <td>Tulio undefined</td>\n",
       "      <td>2023-11-30T11:02:34.54443-03:00</td>\n",
       "      <td>desculpe, mas o texto fornecido é muito confus...</td>\n",
       "      <td>a análise do sentimento desse texto é negativa...</td>\n",
       "      <td>negative</td>\n",
       "    </tr>\n",
       "    <tr>\n",
       "      <th>3</th>\n",
       "      <td>25472dae-41be-4db5-b465-92b3ee0f285d</td>\n",
       "      <td>Meu salário é 2000,00 e vou tirar 10 dias de f...</td>\n",
       "      <td>Thaissa Delgado</td>\n",
       "      <td>2023-12-04T19:42:38.730139-03:00</td>\n",
       "      <td>my salary is 2000.00 and i'm going to take 10 ...</td>\n",
       "      <td>o sentimento deste texto parece ser negativo. ...</td>\n",
       "      <td>negative</td>\n",
       "    </tr>\n",
       "    <tr>\n",
       "      <th>4</th>\n",
       "      <td>2S8DYFBPKE8253H7EFPH</td>\n",
       "      <td>O pagamento em 12x para o cliente tem juros? E...</td>\n",
       "      <td>Cidadedossonhosmoveis undefined</td>\n",
       "      <td>2023-12-07T14:08:58.011084-03:00</td>\n",
       "      <td>does the 12x payment for the customer have int...</td>\n",
       "      <td>analisando o texto, o sentimento geral parece ...</td>\n",
       "      <td>positive</td>\n",
       "    </tr>\n",
       "  </tbody>\n",
       "</table>\n",
       "</div>"
      ],
      "text/plain": [
       "                                chat_id  \\\n",
       "0                  14VVFZN7R80UNPVA8Q04   \n",
       "1                  1DP3MDANB0OGQKASW1OM   \n",
       "2                  1OHYT505S3V28ELHD28U   \n",
       "3  25472dae-41be-4db5-b465-92b3ee0f285d   \n",
       "4                  2S8DYFBPKE8253H7EFPH   \n",
       "\n",
       "                                             message  \\\n",
       "0  Empresa Preciso cadastrsr outra empresan __aud...   \n",
       "1  O cadastro já deu certo agora só falta pedir a...   \n",
       "2  Mais eu sou uma criança Como faço Eu sou uma c...   \n",
       "3  Meu salário é 2000,00 e vou tirar 10 dias de f...   \n",
       "4  O pagamento em 12x para o cliente tem juros? E...   \n",
       "\n",
       "                              user                        created_at  \\\n",
       "0                        Seoneco 🐸  2023-11-27T13:20:31.515216-03:00   \n",
       "1                  Welder Vendedor  2024-01-02T12:35:00.727364-03:00   \n",
       "2                  Tulio undefined   2023-11-30T11:02:34.54443-03:00   \n",
       "3                  Thaissa Delgado  2023-12-04T19:42:38.730139-03:00   \n",
       "4  Cidadedossonhosmoveis undefined  2023-12-07T14:08:58.011084-03:00   \n",
       "\n",
       "                                       message_trans  \\\n",
       "0  company i need to register another company __a...   \n",
       "1  the registration has already been successful, ...   \n",
       "2  desculpe, mas o texto fornecido é muito confus...   \n",
       "3  my salary is 2000.00 and i'm going to take 10 ...   \n",
       "4  does the 12x payment for the customer have int...   \n",
       "\n",
       "                                    prompt_sentiment prompt_sentiment2  \n",
       "0  a análise do sentimento desse texto é neutra. ...           neutral  \n",
       "1  o sentimento do texto é negativo. o cliente pa...          negative  \n",
       "2  a análise do sentimento desse texto é negativa...          negative  \n",
       "3  o sentimento deste texto parece ser negativo. ...          negative  \n",
       "4  analisando o texto, o sentimento geral parece ...          positive  "
      ]
     },
     "execution_count": 110,
     "metadata": {},
     "output_type": "execute_result"
    }
   ],
   "source": [
    "prompt.head()"
   ]
  },
  {
   "cell_type": "code",
   "execution_count": 111,
   "metadata": {},
   "outputs": [
    {
     "data": {
      "text/plain": [
       "prompt_sentiment2\n",
       "neutral     23\n",
       "negative     5\n",
       "positive     2\n",
       "Name: count, dtype: int64"
      ]
     },
     "execution_count": 111,
     "metadata": {},
     "output_type": "execute_result"
    }
   ],
   "source": [
    "#conte quantos sentment foram positivos, negativos e neutros\n",
    "\n",
    "prompt['prompt_sentiment2'].value_counts()"
   ]
  },
  {
   "cell_type": "code",
   "execution_count": 125,
   "metadata": {},
   "outputs": [
    {
     "data": {
      "text/html": [
       "<div>\n",
       "<style scoped>\n",
       "    .dataframe tbody tr th:only-of-type {\n",
       "        vertical-align: middle;\n",
       "    }\n",
       "\n",
       "    .dataframe tbody tr th {\n",
       "        vertical-align: top;\n",
       "    }\n",
       "\n",
       "    .dataframe thead th {\n",
       "        text-align: right;\n",
       "    }\n",
       "</style>\n",
       "<table border=\"1\" class=\"dataframe\">\n",
       "  <thead>\n",
       "    <tr style=\"text-align: right;\">\n",
       "      <th></th>\n",
       "      <th>chat_id</th>\n",
       "      <th>message</th>\n",
       "      <th>user</th>\n",
       "      <th>created_at</th>\n",
       "      <th>message_trans</th>\n",
       "      <th>prompt_sentiment</th>\n",
       "      <th>prompt_sentiment2</th>\n",
       "    </tr>\n",
       "  </thead>\n",
       "  <tbody>\n",
       "    <tr>\n",
       "      <th>1</th>\n",
       "      <td>1DP3MDANB0OGQKASW1OM</td>\n",
       "      <td>O cadastro já deu certo agora só falta pedir a...</td>\n",
       "      <td>Welder Vendedor</td>\n",
       "      <td>2024-01-02T12:35:00.727364-03:00</td>\n",
       "      <td>the registration has already been successful, ...</td>\n",
       "      <td>o sentimento do texto é negativo. o cliente pa...</td>\n",
       "      <td>negative</td>\n",
       "    </tr>\n",
       "    <tr>\n",
       "      <th>2</th>\n",
       "      <td>1OHYT505S3V28ELHD28U</td>\n",
       "      <td>Mais eu sou uma criança Como faço Eu sou uma c...</td>\n",
       "      <td>Tulio undefined</td>\n",
       "      <td>2023-11-30T11:02:34.54443-03:00</td>\n",
       "      <td>desculpe, mas o texto fornecido é muito confus...</td>\n",
       "      <td>a análise do sentimento desse texto é negativa...</td>\n",
       "      <td>negative</td>\n",
       "    </tr>\n",
       "    <tr>\n",
       "      <th>3</th>\n",
       "      <td>25472dae-41be-4db5-b465-92b3ee0f285d</td>\n",
       "      <td>Meu salário é 2000,00 e vou tirar 10 dias de f...</td>\n",
       "      <td>Thaissa Delgado</td>\n",
       "      <td>2023-12-04T19:42:38.730139-03:00</td>\n",
       "      <td>my salary is 2000.00 and i'm going to take 10 ...</td>\n",
       "      <td>o sentimento deste texto parece ser negativo. ...</td>\n",
       "      <td>negative</td>\n",
       "    </tr>\n",
       "    <tr>\n",
       "      <th>5</th>\n",
       "      <td>3HX5TD1K48QBH4IDESXZ</td>\n",
       "      <td>pode deixar, sua ajuda muito é de pouca avalia...</td>\n",
       "      <td>Fernando Bronté</td>\n",
       "      <td>2023-12-13T11:02:26.117422-03:00</td>\n",
       "      <td>you can leave it, your help is of little value...</td>\n",
       "      <td>o sentimento expresso neste texto é negativo. ...</td>\n",
       "      <td>negative</td>\n",
       "    </tr>\n",
       "    <tr>\n",
       "      <th>12</th>\n",
       "      <td>CTCXA7V50J8NTO6LDQ8W</td>\n",
       "      <td>oi entendi e como funciona? qual a cor da cami...</td>\n",
       "      <td>Bernard W. Prado</td>\n",
       "      <td>2023-12-01T09:16:01.349879-03:00</td>\n",
       "      <td>hi, i understood and how does it work? what is...</td>\n",
       "      <td>a análise do sentimento desse texto é negativa...</td>\n",
       "      <td>negative</td>\n",
       "    </tr>\n",
       "  </tbody>\n",
       "</table>\n",
       "</div>"
      ],
      "text/plain": [
       "                                 chat_id  \\\n",
       "1                   1DP3MDANB0OGQKASW1OM   \n",
       "2                   1OHYT505S3V28ELHD28U   \n",
       "3   25472dae-41be-4db5-b465-92b3ee0f285d   \n",
       "5                   3HX5TD1K48QBH4IDESXZ   \n",
       "12                  CTCXA7V50J8NTO6LDQ8W   \n",
       "\n",
       "                                              message              user  \\\n",
       "1   O cadastro já deu certo agora só falta pedir a...   Welder Vendedor   \n",
       "2   Mais eu sou uma criança Como faço Eu sou uma c...   Tulio undefined   \n",
       "3   Meu salário é 2000,00 e vou tirar 10 dias de f...   Thaissa Delgado   \n",
       "5   pode deixar, sua ajuda muito é de pouca avalia...   Fernando Bronté   \n",
       "12  oi entendi e como funciona? qual a cor da cami...  Bernard W. Prado   \n",
       "\n",
       "                          created_at  \\\n",
       "1   2024-01-02T12:35:00.727364-03:00   \n",
       "2    2023-11-30T11:02:34.54443-03:00   \n",
       "3   2023-12-04T19:42:38.730139-03:00   \n",
       "5   2023-12-13T11:02:26.117422-03:00   \n",
       "12  2023-12-01T09:16:01.349879-03:00   \n",
       "\n",
       "                                        message_trans  \\\n",
       "1   the registration has already been successful, ...   \n",
       "2   desculpe, mas o texto fornecido é muito confus...   \n",
       "3   my salary is 2000.00 and i'm going to take 10 ...   \n",
       "5   you can leave it, your help is of little value...   \n",
       "12  hi, i understood and how does it work? what is...   \n",
       "\n",
       "                                     prompt_sentiment prompt_sentiment2  \n",
       "1   o sentimento do texto é negativo. o cliente pa...          negative  \n",
       "2   a análise do sentimento desse texto é negativa...          negative  \n",
       "3   o sentimento deste texto parece ser negativo. ...          negative  \n",
       "5   o sentimento expresso neste texto é negativo. ...          negative  \n",
       "12  a análise do sentimento desse texto é negativa...          negative  "
      ]
     },
     "execution_count": 125,
     "metadata": {},
     "output_type": "execute_result"
    }
   ],
   "source": [
    "#mostre os negativos\n",
    "\n",
    "prompt[df['prompt_sentiment2'] == 'negative']"
   ]
  },
  {
   "cell_type": "code",
   "execution_count": 130,
   "metadata": {},
   "outputs": [
    {
     "data": {
      "text/plain": [
       "'a análise do sentimento desse texto é negativa. o cliente demonstra frustração e insatisfação com o atendimento, como evidenciado por palavras e frases como \"vai caga\" e \"quantos você pra tapalha\". além disso'"
      ]
     },
     "execution_count": 130,
     "metadata": {},
     "output_type": "execute_result"
    }
   ],
   "source": [
    "#puxe de um texto inteiro da coluna prompt_sentment\n",
    "\n",
    "prompt['prompt_sentiment'][2]"
   ]
  },
  {
   "cell_type": "markdown",
   "metadata": {},
   "source": [
    "COMPARANDO"
   ]
  },
  {
   "cell_type": "code",
   "execution_count": 114,
   "metadata": {},
   "outputs": [],
   "source": [
    "# Mesclando df_original com df_vaders usando chat_id como chave\n",
    "comparativo = pd.merge(df[['chat_id', 'message', 'message_trans']], \n",
    "                       vaders[['chat_id', 'compound', 'vaders_sentiment']], \n",
    "                       on='chat_id', \n",
    "                       how='inner')"
   ]
  },
  {
   "cell_type": "code",
   "execution_count": 115,
   "metadata": {},
   "outputs": [],
   "source": [
    "# Mesclando o resultado anterior com df_roberta\n",
    "comparativo = pd.merge(comparativo, \n",
    "                       roberta[['chat_id', 'roberta_neg', 'roberta_neu', 'roberta_pos', 'sentiment_roberta']], \n",
    "                       on='chat_id', \n",
    "                       how='inner')"
   ]
  },
  {
   "cell_type": "code",
   "execution_count": 117,
   "metadata": {},
   "outputs": [],
   "source": [
    "# Finalmente, mesclando com df_prompt\n",
    "comparativo = pd.merge(comparativo, \n",
    "                       prompt[['chat_id', 'prompt_sentiment', 'prompt_sentiment2']], \n",
    "                       on='chat_id', \n",
    "                       how='inner')"
   ]
  },
  {
   "cell_type": "code",
   "execution_count": 118,
   "metadata": {},
   "outputs": [],
   "source": [
    "# Criando uma nova DataFrame para as contagens\n",
    "contagens = pd.DataFrame({\n",
    "    'vader': comparativo['vaders_sentiment'].value_counts(),\n",
    "    'roberta': comparativo['sentiment_roberta'].value_counts(),\n",
    "    'prompt': comparativo['prompt_sentiment2'].value_counts()\n",
    "})\n",
    "\n",
    "# Reordenando as linhas para garantir a consistência entre as colunas\n",
    "contagens = contagens.reindex(['positive', 'neutral', 'negative'])"
   ]
  },
  {
   "cell_type": "code",
   "execution_count": 119,
   "metadata": {},
   "outputs": [
    {
     "data": {
      "text/html": [
       "<div>\n",
       "<style scoped>\n",
       "    .dataframe tbody tr th:only-of-type {\n",
       "        vertical-align: middle;\n",
       "    }\n",
       "\n",
       "    .dataframe tbody tr th {\n",
       "        vertical-align: top;\n",
       "    }\n",
       "\n",
       "    .dataframe thead th {\n",
       "        text-align: right;\n",
       "    }\n",
       "</style>\n",
       "<table border=\"1\" class=\"dataframe\">\n",
       "  <thead>\n",
       "    <tr style=\"text-align: right;\">\n",
       "      <th></th>\n",
       "      <th>vader</th>\n",
       "      <th>roberta</th>\n",
       "      <th>prompt</th>\n",
       "    </tr>\n",
       "  </thead>\n",
       "  <tbody>\n",
       "    <tr>\n",
       "      <th>positive</th>\n",
       "      <td>24</td>\n",
       "      <td>3</td>\n",
       "      <td>2</td>\n",
       "    </tr>\n",
       "    <tr>\n",
       "      <th>neutral</th>\n",
       "      <td>4</td>\n",
       "      <td>23</td>\n",
       "      <td>23</td>\n",
       "    </tr>\n",
       "    <tr>\n",
       "      <th>negative</th>\n",
       "      <td>2</td>\n",
       "      <td>4</td>\n",
       "      <td>5</td>\n",
       "    </tr>\n",
       "  </tbody>\n",
       "</table>\n",
       "</div>"
      ],
      "text/plain": [
       "          vader  roberta  prompt\n",
       "positive     24        3       2\n",
       "neutral       4       23      23\n",
       "negative      2        4       5"
      ]
     },
     "execution_count": 119,
     "metadata": {},
     "output_type": "execute_result"
    }
   ],
   "source": [
    "contagens.head()"
   ]
  },
  {
   "cell_type": "code",
   "execution_count": 120,
   "metadata": {},
   "outputs": [
    {
     "data": {
      "text/html": [
       "<div>\n",
       "<style scoped>\n",
       "    .dataframe tbody tr th:only-of-type {\n",
       "        vertical-align: middle;\n",
       "    }\n",
       "\n",
       "    .dataframe tbody tr th {\n",
       "        vertical-align: top;\n",
       "    }\n",
       "\n",
       "    .dataframe thead th {\n",
       "        text-align: right;\n",
       "    }\n",
       "</style>\n",
       "<table border=\"1\" class=\"dataframe\">\n",
       "  <thead>\n",
       "    <tr style=\"text-align: right;\">\n",
       "      <th></th>\n",
       "      <th>chat_id</th>\n",
       "      <th>message</th>\n",
       "      <th>message_trans</th>\n",
       "      <th>compound</th>\n",
       "      <th>vaders_sentiment</th>\n",
       "      <th>roberta_neg</th>\n",
       "      <th>roberta_neu</th>\n",
       "      <th>roberta_pos</th>\n",
       "      <th>sentiment_roberta</th>\n",
       "      <th>prompt_sentiment</th>\n",
       "      <th>prompt_sentiment2</th>\n",
       "    </tr>\n",
       "  </thead>\n",
       "  <tbody>\n",
       "    <tr>\n",
       "      <th>5</th>\n",
       "      <td>3HX5TD1K48QBH4IDESXZ</td>\n",
       "      <td>pode deixar, sua ajuda muito é de pouca avalia...</td>\n",
       "      <td>you can leave it, your help is of little value...</td>\n",
       "      <td>-0.4304</td>\n",
       "      <td>negative</td>\n",
       "      <td>0.869413</td>\n",
       "      <td>0.116679</td>\n",
       "      <td>0.013909</td>\n",
       "      <td>negative</td>\n",
       "      <td>o sentimento expresso neste texto é negativo. ...</td>\n",
       "      <td>negative</td>\n",
       "    </tr>\n",
       "  </tbody>\n",
       "</table>\n",
       "</div>"
      ],
      "text/plain": [
       "                chat_id                                            message  \\\n",
       "5  3HX5TD1K48QBH4IDESXZ  pode deixar, sua ajuda muito é de pouca avalia...   \n",
       "\n",
       "                                       message_trans  compound  \\\n",
       "5  you can leave it, your help is of little value...   -0.4304   \n",
       "\n",
       "  vaders_sentiment  roberta_neg  roberta_neu  roberta_pos sentiment_roberta  \\\n",
       "5         negative     0.869413     0.116679     0.013909          negative   \n",
       "\n",
       "                                    prompt_sentiment prompt_sentiment2  \n",
       "5  o sentimento expresso neste texto é negativo. ...          negative  "
      ]
     },
     "execution_count": 120,
     "metadata": {},
     "output_type": "execute_result"
    }
   ],
   "source": [
    "#mostre os negativos que saíram iguais nos 3 modelos\n",
    "\n",
    "comparativo[(comparativo['vaders_sentiment'] == 'negative') & (comparativo['sentiment_roberta'] == 'negative') & (comparativo['prompt_sentiment2'] == 'negative')]"
   ]
  },
  {
   "cell_type": "code",
   "execution_count": 121,
   "metadata": {},
   "outputs": [
    {
     "data": {
      "text/html": [
       "<div>\n",
       "<style scoped>\n",
       "    .dataframe tbody tr th:only-of-type {\n",
       "        vertical-align: middle;\n",
       "    }\n",
       "\n",
       "    .dataframe tbody tr th {\n",
       "        vertical-align: top;\n",
       "    }\n",
       "\n",
       "    .dataframe thead th {\n",
       "        text-align: right;\n",
       "    }\n",
       "</style>\n",
       "<table border=\"1\" class=\"dataframe\">\n",
       "  <thead>\n",
       "    <tr style=\"text-align: right;\">\n",
       "      <th></th>\n",
       "      <th>chat_id</th>\n",
       "      <th>message</th>\n",
       "      <th>message_trans</th>\n",
       "      <th>compound</th>\n",
       "      <th>vaders_sentiment</th>\n",
       "      <th>roberta_neg</th>\n",
       "      <th>roberta_neu</th>\n",
       "      <th>roberta_pos</th>\n",
       "      <th>sentiment_roberta</th>\n",
       "      <th>prompt_sentiment</th>\n",
       "      <th>prompt_sentiment2</th>\n",
       "    </tr>\n",
       "  </thead>\n",
       "  <tbody>\n",
       "    <tr>\n",
       "      <th>4</th>\n",
       "      <td>2S8DYFBPKE8253H7EFPH</td>\n",
       "      <td>O pagamento em 12x para o cliente tem juros? E...</td>\n",
       "      <td>does the 12x payment for the customer have int...</td>\n",
       "      <td>0.8738</td>\n",
       "      <td>positive</td>\n",
       "      <td>0.007801</td>\n",
       "      <td>0.143044</td>\n",
       "      <td>0.849155</td>\n",
       "      <td>positive</td>\n",
       "      <td>analisando o texto, o sentimento geral parece ...</td>\n",
       "      <td>positive</td>\n",
       "    </tr>\n",
       "  </tbody>\n",
       "</table>\n",
       "</div>"
      ],
      "text/plain": [
       "                chat_id                                            message  \\\n",
       "4  2S8DYFBPKE8253H7EFPH  O pagamento em 12x para o cliente tem juros? E...   \n",
       "\n",
       "                                       message_trans  compound  \\\n",
       "4  does the 12x payment for the customer have int...    0.8738   \n",
       "\n",
       "  vaders_sentiment  roberta_neg  roberta_neu  roberta_pos sentiment_roberta  \\\n",
       "4         positive     0.007801     0.143044     0.849155          positive   \n",
       "\n",
       "                                    prompt_sentiment prompt_sentiment2  \n",
       "4  analisando o texto, o sentimento geral parece ...          positive  "
      ]
     },
     "execution_count": 121,
     "metadata": {},
     "output_type": "execute_result"
    }
   ],
   "source": [
    "#mostre os positivos que saíram iguais nos 3 modelos\n",
    "\n",
    "comparativo[(comparativo['vaders_sentiment'] == 'positive') & (comparativo['sentiment_roberta'] == 'positive') & (comparativo['prompt_sentiment2'] == 'positive')]"
   ]
  },
  {
   "cell_type": "code",
   "execution_count": 122,
   "metadata": {},
   "outputs": [
    {
     "data": {
      "text/plain": [
       "'O pagamento em 12x para o cliente tem juros? E para cair na conta pra mim? a taça de antecipação para mim é quanto? obrigada Gostei,vou fazer Se eu quiser antecipar como funciona? E pagamento no cartão? A entendi O dinheiro pago em Pix por exemplo,fica na conta para eu usar da maneira que eu quiser ou só para comprar em fornecedor? Será que vc pode me explicar como funciona a Blu? Oi bruna'"
      ]
     },
     "execution_count": 122,
     "metadata": {},
     "output_type": "execute_result"
    }
   ],
   "source": [
    "#mostre o texto completo da coluna \"message\" do chat_id 2S8DYFBPKE8253H7EFPH\n",
    "\n",
    "comparativo[comparativo['chat_id'] == '2S8DYFBPKE8253H7EFPH']['message'].values[0]"
   ]
  },
  {
   "cell_type": "code",
   "execution_count": 123,
   "metadata": {},
   "outputs": [],
   "source": [
    "\n",
    "#transforme o arquivo interactions_table_nov_jan.csv em um df6\n",
    "\n",
    "file_path = 'interactions_table_nov_jan.csv'\n",
    "df6 = pd.read_csv(file_path)"
   ]
  }
 ],
 "metadata": {
  "kernelspec": {
   "display_name": "Python 3",
   "language": "python",
   "name": "python3"
  },
  "language_info": {
   "codemirror_mode": {
    "name": "ipython",
    "version": 3
   },
   "file_extension": ".py",
   "mimetype": "text/x-python",
   "name": "python",
   "nbconvert_exporter": "python",
   "pygments_lexer": "ipython3",
   "version": "3.11.3"
  }
 },
 "nbformat": 4,
 "nbformat_minor": 2
}

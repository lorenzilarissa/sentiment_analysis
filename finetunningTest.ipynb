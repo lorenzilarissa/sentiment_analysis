{
 "cells": [
  {
   "cell_type": "code",
   "execution_count": null,
   "metadata": {},
   "outputs": [],
   "source": [
    "pip install --upgrade pip setuptools wheel"
   ]
  },
  {
   "cell_type": "code",
   "execution_count": 4,
   "metadata": {},
   "outputs": [
    {
     "name": "stdout",
     "output_type": "stream",
     "text": [
      "Requirement already satisfied: tokenizers in c:\\users\\larissa lorenzi\\appdata\\local\\programs\\python\\python311\\lib\\site-packages (0.13.3)\n",
      "Note: you may need to restart the kernel to use updated packages.\n"
     ]
    }
   ],
   "source": [
    "pip install tokenizers"
   ]
  },
  {
   "cell_type": "code",
   "execution_count": 6,
   "metadata": {},
   "outputs": [
    {
     "name": "stdout",
     "output_type": "stream",
     "text": [
      "Collecting tokenizers==0.8.1.rc1\n",
      "  Using cached tokenizers-0.8.1rc1.tar.gz (97 kB)\n",
      "  Installing build dependencies: started\n",
      "  Installing build dependencies: finished with status 'done'\n",
      "  Getting requirements to build wheel: started\n",
      "  Getting requirements to build wheel: finished with status 'done'\n",
      "  Preparing metadata (pyproject.toml): started\n",
      "  Preparing metadata (pyproject.toml): finished with status 'done'\n",
      "Building wheels for collected packages: tokenizers\n",
      "  Building wheel for tokenizers (pyproject.toml): started\n",
      "  Building wheel for tokenizers (pyproject.toml): finished with status 'error'\n",
      "Failed to build tokenizers\n",
      "Note: you may need to restart the kernel to use updated packages.\n"
     ]
    },
    {
     "name": "stderr",
     "output_type": "stream",
     "text": [
      "  error: subprocess-exited-with-error\n",
      "  \n",
      "  × Building wheel for tokenizers (pyproject.toml) did not run successfully.\n",
      "  │ exit code: 1\n",
      "  ╰─> [56 lines of output]\n",
      "      C:\\Users\\Larissa Lorenzi\\AppData\\Local\\Temp\\pip-build-env-38cxiiqv\\overlay\\Lib\\site-packages\\setuptools\\dist.py:314: InformationOnly: Normalizing '0.8.1.rc1' to '0.8.1rc1'\n",
      "        self.metadata.version = self._normalize_version(self.metadata.version)\n",
      "      running bdist_wheel\n",
      "      running build\n",
      "      running build_py\n",
      "      creating build\n",
      "      creating build\\lib.win-amd64-cpython-311\n",
      "      creating build\\lib.win-amd64-cpython-311\\tokenizers\n",
      "      copying tokenizers\\__init__.py -> build\\lib.win-amd64-cpython-311\\tokenizers\n",
      "      creating build\\lib.win-amd64-cpython-311\\tokenizers\\models\n",
      "      copying tokenizers\\models\\__init__.py -> build\\lib.win-amd64-cpython-311\\tokenizers\\models\n",
      "      creating build\\lib.win-amd64-cpython-311\\tokenizers\\decoders\n",
      "      copying tokenizers\\decoders\\__init__.py -> build\\lib.win-amd64-cpython-311\\tokenizers\\decoders\n",
      "      creating build\\lib.win-amd64-cpython-311\\tokenizers\\normalizers\n",
      "      copying tokenizers\\normalizers\\__init__.py -> build\\lib.win-amd64-cpython-311\\tokenizers\\normalizers\n",
      "      creating build\\lib.win-amd64-cpython-311\\tokenizers\\pre_tokenizers\n",
      "      copying tokenizers\\pre_tokenizers\\__init__.py -> build\\lib.win-amd64-cpython-311\\tokenizers\\pre_tokenizers\n",
      "      creating build\\lib.win-amd64-cpython-311\\tokenizers\\processors\n",
      "      copying tokenizers\\processors\\__init__.py -> build\\lib.win-amd64-cpython-311\\tokenizers\\processors\n",
      "      creating build\\lib.win-amd64-cpython-311\\tokenizers\\trainers\n",
      "      copying tokenizers\\trainers\\__init__.py -> build\\lib.win-amd64-cpython-311\\tokenizers\\trainers\n",
      "      creating build\\lib.win-amd64-cpython-311\\tokenizers\\implementations\n",
      "      copying tokenizers\\implementations\\base_tokenizer.py -> build\\lib.win-amd64-cpython-311\\tokenizers\\implementations\n",
      "      copying tokenizers\\implementations\\bert_wordpiece.py -> build\\lib.win-amd64-cpython-311\\tokenizers\\implementations\n",
      "      copying tokenizers\\implementations\\byte_level_bpe.py -> build\\lib.win-amd64-cpython-311\\tokenizers\\implementations\n",
      "      copying tokenizers\\implementations\\char_level_bpe.py -> build\\lib.win-amd64-cpython-311\\tokenizers\\implementations\n",
      "      copying tokenizers\\implementations\\sentencepiece_bpe.py -> build\\lib.win-amd64-cpython-311\\tokenizers\\implementations\n",
      "      copying tokenizers\\implementations\\__init__.py -> build\\lib.win-amd64-cpython-311\\tokenizers\\implementations\n",
      "      copying tokenizers\\__init__.pyi -> build\\lib.win-amd64-cpython-311\\tokenizers\n",
      "      copying tokenizers\\models\\__init__.pyi -> build\\lib.win-amd64-cpython-311\\tokenizers\\models\n",
      "      copying tokenizers\\decoders\\__init__.pyi -> build\\lib.win-amd64-cpython-311\\tokenizers\\decoders\n",
      "      copying tokenizers\\normalizers\\__init__.pyi -> build\\lib.win-amd64-cpython-311\\tokenizers\\normalizers\n",
      "      copying tokenizers\\pre_tokenizers\\__init__.pyi -> build\\lib.win-amd64-cpython-311\\tokenizers\\pre_tokenizers\n",
      "      copying tokenizers\\processors\\__init__.pyi -> build\\lib.win-amd64-cpython-311\\tokenizers\\processors\n",
      "      copying tokenizers\\trainers\\__init__.pyi -> build\\lib.win-amd64-cpython-311\\tokenizers\\trainers\n",
      "      running build_ext\n",
      "      running build_rust\n",
      "          Updating crates.io index\n",
      "          Updating git repository `https://github.com/n1t0/rayon-cond`\n",
      "       Downloading crates ...\n",
      "      error: failed to download `crossbeam-deque v0.8.5`\n",
      "      \n",
      "      Caused by:\n",
      "        unable to get packages from source\n",
      "      \n",
      "      Caused by:\n",
      "        failed to parse manifest at `C:\\Users\\Larissa Lorenzi\\.cargo\\registry\\src\\github.com-1ecc6299db9ec823\\crossbeam-deque-0.8.5\\Cargo.toml`\n",
      "      \n",
      "      Caused by:\n",
      "        failed to parse the `edition` key\n",
      "      \n",
      "      Caused by:\n",
      "        this version of Cargo is older than the `2021` edition, and only supports `2015` and `2018` editions.\n",
      "      error: `cargo metadata --manifest-path Cargo.toml --format-version 1` failed with code 101\n",
      "      -- Output captured from stdout:\n",
      "      \n",
      "      [end of output]\n",
      "  \n",
      "  note: This error originates from a subprocess, and is likely not a problem with pip.\n",
      "  ERROR: Failed building wheel for tokenizers\n",
      "ERROR: Could not build wheels for tokenizers, which is required to install pyproject.toml-based projects\n"
     ]
    }
   ],
   "source": [
    "pip install tokenizers==0.8.1.rc1"
   ]
  },
  {
   "cell_type": "code",
   "execution_count": 2,
   "metadata": {},
   "outputs": [
    {
     "name": "stdout",
     "output_type": "stream",
     "text": [
      "Requirement already satisfied: pyproject-toml in c:\\users\\larissa lorenzi\\appdata\\local\\programs\\python\\python311\\lib\\site-packages (0.0.10)\n",
      "Requirement already satisfied: setuptools>=42 in c:\\users\\larissa lorenzi\\appdata\\local\\programs\\python\\python311\\lib\\site-packages (from pyproject-toml) (69.0.3)\n",
      "Requirement already satisfied: wheel in c:\\users\\larissa lorenzi\\appdata\\local\\programs\\python\\python311\\lib\\site-packages (from pyproject-toml) (0.42.0)\n",
      "Requirement already satisfied: toml in c:\\users\\larissa lorenzi\\appdata\\local\\programs\\python\\python311\\lib\\site-packages (from pyproject-toml) (0.10.2)\n",
      "Requirement already satisfied: jsonschema in c:\\users\\larissa lorenzi\\appdata\\local\\programs\\python\\python311\\lib\\site-packages (from pyproject-toml) (4.17.3)\n",
      "Requirement already satisfied: attrs>=17.4.0 in c:\\users\\larissa lorenzi\\appdata\\local\\programs\\python\\python311\\lib\\site-packages (from jsonschema->pyproject-toml) (23.1.0)\n",
      "Requirement already satisfied: pyrsistent!=0.17.0,!=0.17.1,!=0.17.2,>=0.14.0 in c:\\users\\larissa lorenzi\\appdata\\local\\programs\\python\\python311\\lib\\site-packages (from jsonschema->pyproject-toml) (0.19.3)\n",
      "Note: you may need to restart the kernel to use updated packages.\n"
     ]
    }
   ],
   "source": [
    "pip install pyproject-toml"
   ]
  },
  {
   "cell_type": "code",
   "execution_count": 3,
   "metadata": {},
   "outputs": [
    {
     "name": "stdout",
     "output_type": "stream",
     "text": [
      "Collecting transformers==3.0.2\n",
      "  Using cached transformers-3.0.2-py3-none-any.whl (769 kB)\n",
      "Requirement already satisfied: numpy in c:\\users\\larissa lorenzi\\appdata\\local\\programs\\python\\python311\\lib\\site-packages (from transformers==3.0.2) (1.24.3)\n",
      "Collecting tokenizers==0.8.1.rc1 (from transformers==3.0.2)\n",
      "  Using cached tokenizers-0.8.1rc1.tar.gz (97 kB)\n",
      "  Installing build dependencies: started\n",
      "  Installing build dependencies: finished with status 'done'\n",
      "  Getting requirements to build wheel: started\n",
      "  Getting requirements to build wheel: finished with status 'done'\n",
      "  Preparing metadata (pyproject.toml): started\n",
      "  Preparing metadata (pyproject.toml): finished with status 'done'\n",
      "Requirement already satisfied: packaging in c:\\users\\larissa lorenzi\\appdata\\roaming\\python\\python311\\site-packages (from transformers==3.0.2) (23.1)\n",
      "Requirement already satisfied: filelock in c:\\users\\larissa lorenzi\\appdata\\local\\programs\\python\\python311\\lib\\site-packages (from transformers==3.0.2) (3.12.0)\n",
      "Requirement already satisfied: requests in c:\\users\\larissa lorenzi\\appdata\\local\\programs\\python\\python311\\lib\\site-packages (from transformers==3.0.2) (2.31.0)\n",
      "Requirement already satisfied: tqdm>=4.27 in c:\\users\\larissa lorenzi\\appdata\\local\\programs\\python\\python311\\lib\\site-packages (from transformers==3.0.2) (4.65.0)\n",
      "Requirement already satisfied: regex!=2019.12.17 in c:\\users\\larissa lorenzi\\appdata\\local\\programs\\python\\python311\\lib\\site-packages (from transformers==3.0.2) (2023.5.2)\n",
      "Requirement already satisfied: sentencepiece!=0.1.92 in c:\\users\\larissa lorenzi\\appdata\\local\\programs\\python\\python311\\lib\\site-packages (from transformers==3.0.2) (0.1.99)\n",
      "Requirement already satisfied: sacremoses in c:\\users\\larissa lorenzi\\appdata\\local\\programs\\python\\python311\\lib\\site-packages (from transformers==3.0.2) (0.0.53)\n",
      "Requirement already satisfied: colorama in c:\\users\\larissa lorenzi\\appdata\\roaming\\python\\python311\\site-packages (from tqdm>=4.27->transformers==3.0.2) (0.4.6)\n",
      "Requirement already satisfied: charset-normalizer<4,>=2 in c:\\users\\larissa lorenzi\\appdata\\local\\programs\\python\\python311\\lib\\site-packages (from requests->transformers==3.0.2) (3.1.0)\n",
      "Requirement already satisfied: idna<4,>=2.5 in c:\\users\\larissa lorenzi\\appdata\\local\\programs\\python\\python311\\lib\\site-packages (from requests->transformers==3.0.2) (3.4)\n",
      "Requirement already satisfied: urllib3<3,>=1.21.1 in c:\\users\\larissa lorenzi\\appdata\\local\\programs\\python\\python311\\lib\\site-packages (from requests->transformers==3.0.2) (1.26.15)\n",
      "Requirement already satisfied: certifi>=2017.4.17 in c:\\users\\larissa lorenzi\\appdata\\local\\programs\\python\\python311\\lib\\site-packages (from requests->transformers==3.0.2) (2022.12.7)\n",
      "Requirement already satisfied: six in c:\\users\\larissa lorenzi\\appdata\\roaming\\python\\python311\\site-packages (from sacremoses->transformers==3.0.2) (1.16.0)\n",
      "Requirement already satisfied: click in c:\\users\\larissa lorenzi\\appdata\\local\\programs\\python\\python311\\lib\\site-packages (from sacremoses->transformers==3.0.2) (8.1.3)\n",
      "Requirement already satisfied: joblib in c:\\users\\larissa lorenzi\\appdata\\local\\programs\\python\\python311\\lib\\site-packages (from sacremoses->transformers==3.0.2) (1.3.1)\n",
      "Building wheels for collected packages: tokenizers\n",
      "  Building wheel for tokenizers (pyproject.toml): started\n",
      "  Building wheel for tokenizers (pyproject.toml): finished with status 'error'\n",
      "Failed to build tokenizers\n"
     ]
    },
    {
     "name": "stderr",
     "output_type": "stream",
     "text": [
      "  error: subprocess-exited-with-error\n",
      "  \n",
      "  × Building wheel for tokenizers (pyproject.toml) did not run successfully.\n",
      "  │ exit code: 1\n",
      "  ╰─> [56 lines of output]\n",
      "      C:\\Users\\Larissa Lorenzi\\AppData\\Local\\Temp\\pip-build-env-hqnec0y6\\overlay\\Lib\\site-packages\\setuptools\\dist.py:314: InformationOnly: Normalizing '0.8.1.rc1' to '0.8.1rc1'\n",
      "        self.metadata.version = self._normalize_version(self.metadata.version)\n",
      "      running bdist_wheel\n",
      "      running build\n",
      "      running build_py\n",
      "      creating build\n",
      "      creating build\\lib.win-amd64-cpython-311\n",
      "      creating build\\lib.win-amd64-cpython-311\\tokenizers\n",
      "      copying tokenizers\\__init__.py -> build\\lib.win-amd64-cpython-311\\tokenizers\n",
      "      creating build\\lib.win-amd64-cpython-311\\tokenizers\\models\n",
      "      copying tokenizers\\models\\__init__.py -> build\\lib.win-amd64-cpython-311\\tokenizers\\models\n",
      "      creating build\\lib.win-amd64-cpython-311\\tokenizers\\decoders\n",
      "      copying tokenizers\\decoders\\__init__.py -> build\\lib.win-amd64-cpython-311\\tokenizers\\decoders\n",
      "      creating build\\lib.win-amd64-cpython-311\\tokenizers\\normalizers\n",
      "      copying tokenizers\\normalizers\\__init__.py -> build\\lib.win-amd64-cpython-311\\tokenizers\\normalizers\n",
      "      creating build\\lib.win-amd64-cpython-311\\tokenizers\\pre_tokenizers\n",
      "      copying tokenizers\\pre_tokenizers\\__init__.py -> build\\lib.win-amd64-cpython-311\\tokenizers\\pre_tokenizers\n",
      "      creating build\\lib.win-amd64-cpython-311\\tokenizers\\processors\n",
      "      copying tokenizers\\processors\\__init__.py -> build\\lib.win-amd64-cpython-311\\tokenizers\\processors\n",
      "      creating build\\lib.win-amd64-cpython-311\\tokenizers\\trainers\n",
      "      copying tokenizers\\trainers\\__init__.py -> build\\lib.win-amd64-cpython-311\\tokenizers\\trainers\n",
      "      creating build\\lib.win-amd64-cpython-311\\tokenizers\\implementations\n",
      "      copying tokenizers\\implementations\\base_tokenizer.py -> build\\lib.win-amd64-cpython-311\\tokenizers\\implementations\n",
      "      copying tokenizers\\implementations\\bert_wordpiece.py -> build\\lib.win-amd64-cpython-311\\tokenizers\\implementations\n",
      "      copying tokenizers\\implementations\\byte_level_bpe.py -> build\\lib.win-amd64-cpython-311\\tokenizers\\implementations\n",
      "      copying tokenizers\\implementations\\char_level_bpe.py -> build\\lib.win-amd64-cpython-311\\tokenizers\\implementations\n",
      "      copying tokenizers\\implementations\\sentencepiece_bpe.py -> build\\lib.win-amd64-cpython-311\\tokenizers\\implementations\n",
      "      copying tokenizers\\implementations\\__init__.py -> build\\lib.win-amd64-cpython-311\\tokenizers\\implementations\n",
      "      copying tokenizers\\__init__.pyi -> build\\lib.win-amd64-cpython-311\\tokenizers\n",
      "      copying tokenizers\\models\\__init__.pyi -> build\\lib.win-amd64-cpython-311\\tokenizers\\models\n",
      "      copying tokenizers\\decoders\\__init__.pyi -> build\\lib.win-amd64-cpython-311\\tokenizers\\decoders\n",
      "      copying tokenizers\\normalizers\\__init__.pyi -> build\\lib.win-amd64-cpython-311\\tokenizers\\normalizers\n",
      "      copying tokenizers\\pre_tokenizers\\__init__.pyi -> build\\lib.win-amd64-cpython-311\\tokenizers\\pre_tokenizers\n",
      "      copying tokenizers\\processors\\__init__.pyi -> build\\lib.win-amd64-cpython-311\\tokenizers\\processors\n",
      "      copying tokenizers\\trainers\\__init__.pyi -> build\\lib.win-amd64-cpython-311\\tokenizers\\trainers\n",
      "      running build_ext\n",
      "      running build_rust\n",
      "          Updating crates.io index\n",
      "          Updating git repository `https://github.com/n1t0/rayon-cond`\n",
      "       Downloading crates ...\n",
      "      error: failed to download `crossbeam-deque v0.8.5`\n",
      "      \n",
      "      Caused by:\n",
      "        unable to get packages from source\n",
      "      \n",
      "      Caused by:\n",
      "        failed to parse manifest at `C:\\Users\\Larissa Lorenzi\\.cargo\\registry\\src\\github.com-1ecc6299db9ec823\\crossbeam-deque-0.8.5\\Cargo.toml`\n",
      "      \n",
      "      Caused by:\n",
      "        failed to parse the `edition` key\n",
      "      \n",
      "      Caused by:\n",
      "        this version of Cargo is older than the `2021` edition, and only supports `2015` and `2018` editions.\n",
      "      error: `cargo metadata --manifest-path Cargo.toml --format-version 1` failed with code 101\n",
      "      -- Output captured from stdout:\n",
      "      \n",
      "      [end of output]\n",
      "  \n",
      "  note: This error originates from a subprocess, and is likely not a problem with pip.\n",
      "  ERROR: Failed building wheel for tokenizers\n",
      "ERROR: Could not build wheels for tokenizers, which is required to install pyproject.toml-based projects\n"
     ]
    }
   ],
   "source": [
    "!pip install transformers==3.0.2"
   ]
  },
  {
   "cell_type": "code",
   "execution_count": null,
   "metadata": {},
   "outputs": [],
   "source": [
    "!curl --proto '=https' --tlsv1.2 -sSf https://sh.rustup.rs | sh -s -- -y"
   ]
  },
  {
   "cell_type": "code",
   "execution_count": null,
   "metadata": {},
   "outputs": [],
   "source": []
  },
  {
   "cell_type": "code",
   "execution_count": null,
   "metadata": {},
   "outputs": [],
   "source": []
  }
 ],
 "metadata": {
  "kernelspec": {
   "display_name": "Python 3",
   "language": "python",
   "name": "python3"
  },
  "language_info": {
   "codemirror_mode": {
    "name": "ipython",
    "version": 3
   },
   "file_extension": ".py",
   "mimetype": "text/x-python",
   "name": "python",
   "nbconvert_exporter": "python",
   "pygments_lexer": "ipython3",
   "version": "3.11.3"
  }
 },
 "nbformat": 4,
 "nbformat_minor": 2
}
